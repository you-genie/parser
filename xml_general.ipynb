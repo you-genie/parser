{
 "cells": [
  {
   "cell_type": "code",
   "execution_count": 7,
   "metadata": {
    "collapsed": true
   },
   "outputs": [],
   "source": [
    "import pandas as pd\n",
    "from os import walk, makedirs\n",
    "from os.path import join, exists, basename\n",
    "import xml.etree.ElementTree as elemTree\n",
    "import os, operator\n",
    "from os.path import getsize\n",
    "from tqdm.notebook import tqdm as tn"
   ]
  },
  {
   "cell_type": "code",
   "execution_count": 13,
   "outputs": [],
   "source": [
    "def get_data(filename):\n",
    "    tree = elemTree.parse(filename)\n",
    "    root = tree.getroot().find('BestExRptgRTS27DataRpt')\n",
    "    basic_tree = root.find('Header')\n",
    "    body_tree = root.find('Body')\n",
    "\n",
    "    columns = ['VnNm', 'VnCd', 'CtryCompAuth',\n",
    "               'MktSgmt', 'MktSgmtNm', 'DtTrdDay',\n",
    "               'FinInstr', 'FinInstrNm', 'CFICd', 'Ccy',\n",
    "               'LkhdExec.TtlValExecTx']\n",
    "\n",
    "    all_data = pd.DataFrame(columns=columns)\n",
    "\n",
    "    # 1. Parse basic data\n",
    "    basic_data_columns = columns[:6]\n",
    "    basic_data = {}\n",
    "    for tag in basic_data_columns:\n",
    "        basic_data[tag] = [basic_tree.find(tag).text]\n",
    "\n",
    "    # 2. Parse FinInstrument data\n",
    "    for fininst_tree in body_tree.iter('FinInstrument'):\n",
    "        LkhdExec = fininst_tree.find('LkhdExec')\n",
    "        if LkhdExec is None:\n",
    "            continue\n",
    "\n",
    "        fin_basic_data_columns = columns[6:10]\n",
    "        fin_basic_data = {}\n",
    "\n",
    "        for tag in fin_basic_data_columns:\n",
    "            fin_basic_data[tag] = [fininst_tree.find(tag).text]\n",
    "\n",
    "        # 2. Parse LkhdExec columns, and add to all_dataset\n",
    "        TtlValExecTx = LkhdExec.find('TtlValExecTx').text\n",
    "        all_data = all_data.append(pd.DataFrame.from_dict(\n",
    "            {**fin_basic_data, **basic_data, 'LkhdExec.TtlValExecTx': [TtlValExecTx]}\n",
    "        ), ignore_index=True)\n",
    "\n",
    "\n",
    "    return all_data\n",
    "\n",
    "def write_data(filepath, filename, all_data, header=False, mode='a'):\n",
    "    if not exists(filepath):\n",
    "        makedirs(filepath)\n",
    "\n",
    "    full_filename = join(filepath, filename)\n",
    "    all_data.to_csv(\n",
    "        full_filename,\n",
    "        index=False,\n",
    "        sep=\",\",\n",
    "        mode=mode,\n",
    "        header=header\n",
    "    )\n",
    "\n",
    "def make_new(SAVE_PATH, save_name, columns):\n",
    "    if not exists(SAVE_PATH):\n",
    "        makedirs(SAVE_PATH)\n",
    "\n",
    "    full_filename = join(SAVE_PATH, save_name)\n",
    "\n",
    "    all_data = pd.DataFrame(columns=columns)\n",
    "    all_data.to_csv(full_filename, index=False)\n",
    "\n",
    "    return save_name"
   ],
   "metadata": {
    "collapsed": false,
    "pycharm": {
     "name": "#%%\n"
    }
   }
  },
  {
   "cell_type": "code",
   "execution_count": 17,
   "outputs": [
    {
     "name": "stdout",
     "output_type": "stream",
     "text": [
      "366\n"
     ]
    },
    {
     "data": {
      "text/plain": "  0%|          | 0/366 [00:00<?, ?it/s]",
      "application/vnd.jupyter.widget-view+json": {
       "version_major": 2,
       "version_minor": 0,
       "model_id": "c31da4baa0854100add9aaac7d81c392"
      }
     },
     "metadata": {},
     "output_type": "display_data"
    }
   ],
   "source": [
    "PATH = \"/home/genne/Downloads/2020/files\"  # need to modify this\n",
    "files_list = []\n",
    "for path, dirs, files in walk(PATH):\n",
    "    files_list.extend([(join(path, file),\n",
    "                        getsize(join(path, file))) for file in files])\n",
    "files_list = sorted(files_list, key=operator.itemgetter(1), reverse=True)\n",
    "print(len(files_list))\n",
    "columns = ['VnNm', 'VnCd', 'CtryCompAuth',\n",
    "           'MktSgmt', 'MktSgmtNm', 'DtTrdDay',\n",
    "           'FinInstr', 'FinInstrNm', 'CFICd', 'Ccy',\n",
    "           'LkhdExec.TtlValExecTx']\n",
    "\n",
    "SAVE_PATH = \"all\"\n",
    "SAVE_PATH_SEP = \"sep2020\"\n",
    "\n",
    "save_name = 'bond_transactions.csv'\n",
    "for fname, fsize in tn(files_list):\n",
    "    all_data = get_data(fname)\n",
    "    write_data(SAVE_PATH,\n",
    "               save_name,\n",
    "               all_data)\n",
    "    write_data(SAVE_PATH_SEP,\n",
    "               basename(fname).split(\".\")[0]+\".csv\",\n",
    "               all_data,\n",
    "               mode='w', header=True)"
   ],
   "metadata": {
    "collapsed": false,
    "pycharm": {
     "name": "#%%\n"
    }
   }
  }
 ],
 "metadata": {
  "kernelspec": {
   "display_name": "Python 3",
   "language": "python",
   "name": "python3"
  },
  "language_info": {
   "codemirror_mode": {
    "name": "ipython",
    "version": 2
   },
   "file_extension": ".py",
   "mimetype": "text/x-python",
   "name": "python",
   "nbconvert_exporter": "python",
   "pygments_lexer": "ipython2",
   "version": "2.7.6"
  }
 },
 "nbformat": 4,
 "nbformat_minor": 0
}