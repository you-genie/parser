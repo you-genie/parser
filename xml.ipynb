{
 "cells": [
  {
   "cell_type": "code",
   "execution_count": 1,
   "metadata": {
    "collapsed": true
   },
   "outputs": [],
   "source": [
    "import pandas as pd\n",
    "from os import walk, makedirs\n",
    "from os.path import join, exists\n",
    "import openpyxl as XL\n",
    "from tqdm import tqdm_notebook\n",
    "import xml.etree.ElementTree as elemTree\n",
    "import os, operator\n",
    "from os.path import getsize\n",
    "from tqdm.notebook import tqdm as tn"
   ]
  },
  {
   "cell_type": "code",
   "execution_count": 5,
   "outputs": [],
   "source": [
    "\n",
    "def get_data(filename):\n",
    "    tree = elemTree.parse(filename)\n",
    "    root = tree.getroot()\n",
    "    basic_data = root.find('BestExRptgRTS27DataRpt').find('Header')\n",
    "\n",
    "    VnNm = basic_data.find('VnNm').text\n",
    "    VnCd = basic_data.find('VnCd').text\n",
    "    CtryCompAuth = basic_data.find('CtryCompAuth').text\n",
    "    MktSgmt = basic_data.find('MktSgmt').text\n",
    "    MktSgmtNm = basic_data.find('MktSgmtNm').text\n",
    "    DtTrdDay = basic_data.find('DtTrdDay').text\n",
    "\n",
    "    basic_data = {\n",
    "        'VnNm': [VnNm],\n",
    "        'VnCd': [VnCd],\n",
    "        \"CtryCompAuth\": [CtryCompAuth],\n",
    "        'MktSgmt': [MktSgmt],\n",
    "        'MktSgmtNm': [MktSgmtNm],\n",
    "        'DtTrdDay': [DtTrdDay]\n",
    "    }\n",
    "    columns = \"VnNm VnCd CtryCompAuth MktSgmt MktSgmtNm DtTrdDay \" \\\n",
    "              \"FinInstr FinInstrNm CFICd Ccy \" \\\n",
    "              \"Data SzRn Pric ExecTime TxSize TrdSystm TrdMode TrdPlt \" \\\n",
    "              \"SmplAvgExecPric TtlValExec \" \\\n",
    "              \"SmplAvgTxPric VolWghTxPric HgstTxPric LwstTxPric \" \\\n",
    "              \"NumRcvdOrQt NumExecTx TtlValExecTx NmOfCxlQrQt \" \\\n",
    "              \"NmOfAmndQrQt MdnTxSize MdnOrQtSize \" \\\n",
    "              \"Data2 BstBdPric BstOfrPric BbSz OfrSz\".split(\" \")\n",
    "\n",
    "    all_data = pd.DataFrame(columns=columns)\n",
    "\n",
    "    for fininst in root.find('BestExRptgRTS27DataRpt').find('Body').iter('FinInstrument'):\n",
    "        fin_basic = {\n",
    "            \"FinInstr\": [fininst.find('FinInstr').text],\n",
    "            \"FinInstrNm\": [fininst.find('FinInstrNm').text],\n",
    "            \"CFICd\": [fininst.find('CFICd').text],\n",
    "            \"Ccy\": [fininst.find('Ccy').text]\n",
    "        }\n",
    "        DaylyPric = fininst.find('DaylyPric')\n",
    "        if DaylyPric is not None:\n",
    "            for data in DaylyPric.iter():\n",
    "                if data.tag != 'DaylyPric':\n",
    "                    fin_basic[data.tag] = data.text\n",
    "\n",
    "        LkhdExec = fininst.find('LkhdExec') # NumRcvdOrQt etc...\n",
    "        if LkhdExec is not None:\n",
    "            for data in LkhdExec.iter():\n",
    "                if data.tag != \"LkhdExec\":\n",
    "                    fin_basic[data.tag] = data.text\n",
    "\n",
    "        IntrDayPric = fininst.find('IntrDayPric') # SzRn etc...\n",
    "        if IntrDayPric is not None:\n",
    "            for Time in IntrDayPric.iter('Time'):\n",
    "                time_data = {}\n",
    "                time_data['SzRn'] = Time.find('Data').attrib['SzRn']\n",
    "                time_data['Data'] = Time.find('Data').text\n",
    "                FrstTrd = Time.find('FrstTrd')\n",
    "\n",
    "                if FrstTrd is not None:\n",
    "                    frsttrd_data = {}\n",
    "                    for data in FrstTrd.iter():\n",
    "                        if data.tag != \"FrstTrd\":\n",
    "                            frsttrd_data[data.tag] = data.text\n",
    "\n",
    "                    all_data = all_data.append(pd.DataFrame.from_dict(\n",
    "                        {**frsttrd_data, **time_data, **fin_basic, **basic_data}),\n",
    "                        ignore_index=True)\n",
    "\n",
    "                AllTrds = Time.find('AllTrds')\n",
    "\n",
    "                if AllTrds is not None:\n",
    "                    alltrds_data = {\n",
    "                        'SmplAvgExecPric': AllTrds.find('SmplAvgExecPric').text,\n",
    "                        'TtlValExec': AllTrds.find('TtlValExec').text\n",
    "                    }\n",
    "                    all_data = all_data.append(pd.DataFrame.from_dict(\n",
    "                        {**alltrds_data, **time_data, **fin_basic, **basic_data}\n",
    "                    ), ignore_index=True)\n",
    "\n",
    "        LkhdExecInfoTm = fininst.find('LkhdExecInfoTm')\n",
    "        if LkhdExecInfoTm is not None:\n",
    "            for Time in LkhdExecInfoTm.iter('Time'):\n",
    "                time_data = {}\n",
    "                for data in Time.iter():\n",
    "                    if data.tag == 'Data':\n",
    "                        time_data['Data2'] = data.text\n",
    "                    elif data.tag != 'Time':\n",
    "                        time_data[data.tag] = data.text\n",
    "\n",
    "                all_data = all_data.append(pd.DataFrame.from_dict(\n",
    "                        {**time_data, **fin_basic, **basic_data}),\n",
    "                        ignore_index=True)\n",
    "\n",
    "        # if LkhdExecInfoTm.find('Time') is None and IntrDayPric is None:\n",
    "        if LkhdExecInfoTm.find('Time') is None:\n",
    "\n",
    "            all_data = all_data.append(pd.DataFrame.from_dict(\n",
    "                {**fin_basic, **basic_data}), ignore_index=True)\n",
    "\n",
    "    return all_data\n",
    "\n",
    "def write_data(filepath, filename, all_data, header=False, mode='a'):\n",
    "    full_filename = join(filepath, filename)\n",
    "    all_data.to_csv(\n",
    "        full_filename,\n",
    "        index=False,\n",
    "        sep=\",\",\n",
    "        mode=mode,\n",
    "        header=header\n",
    "    )\n",
    "\n",
    "def make_new(save_num):\n",
    "    SAVE_PATH = \"/home/genne/Downloads/save/new\"\n",
    "    save_name = f\"bond_transactions_{save_num}.csv\"\n",
    "    full_filename = join(SAVE_PATH, save_name)\n",
    "    columns = \"VnNm VnCd CtryCompAuth MktSgmt MktSgmtNm DtTrdDay \" \\\n",
    "          \"FinInstr FinInstrNm CFICd Ccy \" \\\n",
    "          \"Data SzRn Pric ExecTime TxSize TrdSystm TrdMode TrdPlt \" \\\n",
    "          \"SmplAvgExecPric TtlValExec \" \\\n",
    "          \"SmplAvgTxPric VolWghTxPric HgstTxPric LwstTxPric \" \\\n",
    "          \"NumRcvdOrQt NumExecTx TtlValExecTx NmOfCxlQrQt \" \\\n",
    "          \"NmOfAmndQrQt MdnTxSize MdnOrQtSize \" \\\n",
    "          \"Data2 BstBdPric BstOfrPric BbSz OfrSz\".split(\" \")\n",
    "    all_data = pd.DataFrame(columns=columns)\n",
    "\n",
    "    all_data.to_csv(full_filename, index=False)\n",
    "\n",
    "    return save_name\n"
   ],
   "metadata": {
    "collapsed": false,
    "pycharm": {
     "name": "#%%\n"
    }
   }
  },
  {
   "cell_type": "code",
   "execution_count": 6,
   "outputs": [
    {
     "name": "stdout",
     "output_type": "stream",
     "text": [
      "366\n"
     ]
    }
   ],
   "source": [
    "PATH = \"/home/genne/Downloads/2020/files\" # need to modify this\n",
    "files_list = []\n",
    "for path, dirs, files in os.walk(PATH):\n",
    "    files_list.extend([(os.path.join(path, file),\n",
    "                        getsize(os.path.join(path, file))) for file in files])\n",
    "files_list = sorted(files_list, key=operator.itemgetter(1), reverse=False)\n",
    "print(len(files_list))"
   ],
   "metadata": {
    "collapsed": false,
    "pycharm": {
     "name": "#%%\n"
    }
   }
  },
  {
   "cell_type": "code",
   "execution_count": 7,
   "outputs": [
    {
     "name": "stderr",
     "output_type": "stream",
     "text": [
      "<ipython-input-7-7337b205e7fe>:4: TqdmDeprecationWarning: This function will be removed in tqdm==5.0.0\n",
      "Please use `tqdm.notebook.tqdm` instead of `tqdm.tqdm_notebook`\n",
      "  for fname, fsize in tqdm_notebook(files_list):\n"
     ]
    },
    {
     "data": {
      "text/plain": "  0%|          | 0/366 [00:00<?, ?it/s]",
      "application/vnd.jupyter.widget-view+json": {
       "version_major": 2,
       "version_minor": 0,
       "model_id": "785bb5d06dbe43ec99492c13675c51fa"
      }
     },
     "metadata": {},
     "output_type": "display_data"
    }
   ],
   "source": [
    "SAVE_PATH = \"/home/genne/Downloads/save/new\"\n",
    "SAVE_PATH_SEP = \"/home/genne/Downloads/2020/new\"\n",
    "save_name = 'bond_transactions_1.csv'\n",
    "for fname, fsize in tqdm_notebook(files_list):\n",
    "    all_data = get_data(fname)\n",
    "    write_data(SAVE_PATH, save_name, all_data)\n",
    "    write_data(SAVE_PATH_SEP, os.path.basename(fname).split(\".\")[0]+\".csv\", all_data, mode='w', header=True)"
   ],
   "metadata": {
    "collapsed": false,
    "pycharm": {
     "name": "#%%\n"
    }
   }
  },
  {
   "cell_type": "code",
   "execution_count": 39,
   "outputs": [
    {
     "name": "stdout",
     "output_type": "stream",
     "text": [
      "[('/home/genne/Downloads/output/RTS27_7LTWFZYICNSX8D621K86_20180612_DBES.xml', 20702926), ('/home/genne/Downloads/output/RTS27_7LTWFZYICNSX8D621K86_20180206_DBES.xml', 19134167), ('/home/genne/Downloads/output/RTS27_7LTWFZYICNSX8D621K86_20180611_DBES.xml', 18575048), ('/home/genne/Downloads/output/RTS27_7LTWFZYICNSX8D621K86_20180209_DBES.xml', 18455259), ('/home/genne/Downloads/output/RTS27_7LTWFZYICNSX8D621K86_20180613_DBES.xml', 18453728), ('/home/genne/Downloads/output/RTS27_7LTWFZYICNSX8D621K86_20180207_DBES.xml', 18147585), ('/home/genne/Downloads/output/RTS27_7LTWFZYICNSX8D621K86_20180214_DBES.xml', 18002793), ('/home/genne/Downloads/output/RTS27_7LTWFZYICNSX8D621K86_20180205_DBES.xml', 17908132), ('/home/genne/Downloads/output/RTS27_7LTWFZYICNSX8D621K86_20180208_DBES.xml', 17882973), ('/home/genne/Downloads/output/RTS27_7LTWFZYICNSX8D621K86_20180202_DBES.xml', 17761478), ('/home/genne/Downloads/output/RTS27_7LTWFZYICNSX8D621K86_20180302_DBES.xml', 17711198), ('/home/genne/Downloads/output/RTS27_7LTWFZYICNSX8D621K86_20180301_DBES.xml', 17708459), ('/home/genne/Downloads/output/RTS27_7LTWFZYICNSX8D621K86_20180201_DBES.xml', 16899984), ('/home/genne/Downloads/output/RTS27_7LTWFZYICNSX8D621K86_20180215_DBES.xml', 16728627), ('/home/genne/Downloads/output/RTS27_7LTWFZYICNSX8D621K86_20180110_DBES.xml', 16686683), ('/home/genne/Downloads/output/RTS27_7LTWFZYICNSX8D621K86_20180313_DBES.xml', 16670137), ('/home/genne/Downloads/output/RTS27_7LTWFZYICNSX8D621K86_20180227_DBES.xml', 16557062), ('/home/genne/Downloads/output/RTS27_7LTWFZYICNSX8D621K86_20180323_DBES.xml', 16539058), ('/home/genne/Downloads/output/RTS27_7LTWFZYICNSX8D621K86_20180305_DBES.xml', 16517322), ('/home/genne/Downloads/output/RTS27_7LTWFZYICNSX8D621K86_20180322_DBES.xml', 16405053), ('/home/genne/Downloads/output/RTS27_7LTWFZYICNSX8D621K86_20180104_DBES.xml', 16393956), ('/home/genne/Downloads/output/RTS27_7LTWFZYICNSX8D621K86_20180625_DBES.xml', 16306829), ('/home/genne/Downloads/output/RTS27_7LTWFZYICNSX8D621K86_20180130_DBES.xml', 16203723), ('/home/genne/Downloads/output/RTS27_7LTWFZYICNSX8D621K86_20180326_DBES.xml', 15997016), ('/home/genne/Downloads/output/RTS27_7LTWFZYICNSX8D621K86_20180329_DBES.xml', 15913984), ('/home/genne/Downloads/output/RTS27_7LTWFZYICNSX8D621K86_20180221_DBES.xml', 15889408), ('/home/genne/Downloads/output/RTS27_7LTWFZYICNSX8D621K86_20180226_DBES.xml', 15835703), ('/home/genne/Downloads/output/RTS27_7LTWFZYICNSX8D621K86_20180213_DBES.xml', 15815114), ('/home/genne/Downloads/output/RTS27_7LTWFZYICNSX8D621K86_20180306_DBES.xml', 15799752), ('/home/genne/Downloads/output/RTS27_7LTWFZYICNSX8D621K86_20180314_DBES.xml', 15791554), ('/home/genne/Downloads/output/RTS27_7LTWFZYICNSX8D621K86_20180125_DBES.xml', 15771618), ('/home/genne/Downloads/output/RTS27_7LTWFZYICNSX8D621K86_20180105_DBES.xml', 15755509), ('/home/genne/Downloads/output/RTS27_7LTWFZYICNSX8D621K86_20180320_DBES.xml', 15746931), ('/home/genne/Downloads/output/RTS27_7LTWFZYICNSX8D621K86_20180228_DBES.xml', 15733052), ('/home/genne/Downloads/output/RTS27_7LTWFZYICNSX8D621K86_20180116_DBES.xml', 15727648), ('/home/genne/Downloads/output/RTS27_7LTWFZYICNSX8D621K86_20180222_DBES.xml', 15691795), ('/home/genne/Downloads/output/RTS27_7LTWFZYICNSX8D621K86_20180109_DBES.xml', 15690149), ('/home/genne/Downloads/output/RTS27_7LTWFZYICNSX8D621K86_20180327_DBES.xml', 15602617), ('/home/genne/Downloads/output/RTS27_7LTWFZYICNSX8D621K86_20180319_DBES.xml', 15532694), ('/home/genne/Downloads/output/RTS27_7LTWFZYICNSX8D621K86_20180212_DBES.xml', 15531849), ('/home/genne/Downloads/output/RTS27_7LTWFZYICNSX8D621K86_20180312_DBES.xml', 15522590), ('/home/genne/Downloads/output/RTS27_7LTWFZYICNSX8D621K86_20180111_DBES.xml', 15500644), ('/home/genne/Downloads/output/RTS27_7LTWFZYICNSX8D621K86_20180131_DBES.xml', 15458564), ('/home/genne/Downloads/output/RTS27_7LTWFZYICNSX8D621K86_20180216_DBES.xml', 15404505), ('/home/genne/Downloads/output/RTS27_7LTWFZYICNSX8D621K86_20180123_DBES.xml', 15383272), ('/home/genne/Downloads/output/RTS27_7LTWFZYICNSX8D621K86_20180619_DBES.xml', 15368717), ('/home/genne/Downloads/output/RTS27_7LTWFZYICNSX8D621K86_20180614_DBES.xml', 15349887), ('/home/genne/Downloads/output/RTS27_7LTWFZYICNSX8D621K86_20180112_DBES.xml', 15349161), ('/home/genne/Downloads/output/RTS27_7LTWFZYICNSX8D621K86_20180316_DBES.xml', 15339611), ('/home/genne/Downloads/output/RTS27_7LTWFZYICNSX8D621K86_20180309_DBES.xml', 15336295), ('/home/genne/Downloads/output/RTS27_7LTWFZYICNSX8D621K86_20180117_DBES.xml', 15286337), ('/home/genne/Downloads/output/RTS27_7LTWFZYICNSX8D621K86_20181011_DBES.xml', 15282313), ('/home/genne/Downloads/output/RTS27_7LTWFZYICNSX8D621K86_20180315_DBES.xml', 15168808), ('/home/genne/Downloads/output/RTS27_7LTWFZYICNSX8D621K86_20180307_DBES.xml', 15152962), ('/home/genne/Downloads/output/RTS27_7LTWFZYICNSX8D621K86_20180403_DBES.xml', 15100260), ('/home/genne/Downloads/output/RTS27_7LTWFZYICNSX8D621K86_20180328_DBES.xml', 15076936), ('/home/genne/Downloads/output/RTS27_7LTWFZYICNSX8D621K86_20180628_DBES.xml', 15062694), ('/home/genne/Downloads/output/RTS27_7LTWFZYICNSX8D621K86_20180308_DBES.xml', 15039911), ('/home/genne/Downloads/output/RTS27_7LTWFZYICNSX8D621K86_20180124_DBES.xml', 15009694), ('/home/genne/Downloads/output/RTS27_7LTWFZYICNSX8D621K86_20180122_DBES.xml', 15000380), ('/home/genne/Downloads/output/RTS27_7LTWFZYICNSX8D621K86_20180119_DBES.xml', 14996752), ('/home/genne/Downloads/output/RTS27_7LTWFZYICNSX8D621K86_20180118_DBES.xml', 14977117), ('/home/genne/Downloads/output/RTS27_7LTWFZYICNSX8D621K86_20180220_DBES.xml', 14939085), ('/home/genne/Downloads/output/RTS27_7LTWFZYICNSX8D621K86_20180627_DBES.xml', 14924441), ('/home/genne/Downloads/output/RTS27_7LTWFZYICNSX8D621K86_20180223_DBES.xml', 14920408), ('/home/genne/Downloads/output/RTS27_7LTWFZYICNSX8D621K86_20180502_DBES.xml', 14876246), ('/home/genne/Downloads/output/RTS27_7LTWFZYICNSX8D621K86_20180424_DBES.xml', 14791069), ('/home/genne/Downloads/output/RTS27_7LTWFZYICNSX8D621K86_20180529_DBES.xml', 14710791), ('/home/genne/Downloads/output/RTS27_7LTWFZYICNSX8D621K86_20180129_DBES.xml', 14698747), ('/home/genne/Downloads/output/RTS27_7LTWFZYICNSX8D621K86_20180618_DBES.xml', 14655427), ('/home/genne/Downloads/output/RTS27_7LTWFZYICNSX8D621K86_20180621_DBES.xml', 14649649), ('/home/genne/Downloads/output/RTS27_7LTWFZYICNSX8D621K86_20180411_DBES.xml', 14645995), ('/home/genne/Downloads/output/RTS27_7LTWFZYICNSX8D621K86_20180615_DBES.xml', 14639377), ('/home/genne/Downloads/output/RTS27_7LTWFZYICNSX8D621K86_20180115_DBES.xml', 14637589), ('/home/genne/Downloads/output/RTS27_7LTWFZYICNSX8D621K86_20180626_DBES.xml', 14627061), ('/home/genne/Downloads/output/RTS27_7LTWFZYICNSX8D621K86_20180410_DBES.xml', 14502574), ('/home/genne/Downloads/output/RTS27_7LTWFZYICNSX8D621K86_20180629_DBES.xml', 14423935), ('/home/genne/Downloads/output/RTS27_7LTWFZYICNSX8D621K86_20181203_DBES.xml', 14415712), ('/home/genne/Downloads/output/RTS27_7LTWFZYICNSX8D621K86_20180515_DBES.xml', 14378787), ('/home/genne/Downloads/output/RTS27_7LTWFZYICNSX8D621K86_20181120_DBES.xml', 14255427), ('/home/genne/Downloads/output/RTS27_7LTWFZYICNSX8D621K86_20180620_DBES.xml', 14217341), ('/home/genne/Downloads/output/RTS27_7LTWFZYICNSX8D621K86_20180405_DBES.xml', 14149905), ('/home/genne/Downloads/output/RTS27_7LTWFZYICNSX8D621K86_20180404_DBES.xml', 14112198), ('/home/genne/Downloads/output/RTS27_7LTWFZYICNSX8D621K86_20180516_DBES.xml', 14100483), ('/home/genne/Downloads/output/RTS27_7LTWFZYICNSX8D621K86_20180417_DBES.xml', 14069242), ('/home/genne/Downloads/output/RTS27_7LTWFZYICNSX8D621K86_20180525_DBES.xml', 14039582), ('/home/genne/Downloads/output/RTS27_7LTWFZYICNSX8D621K86_20180103_DBES.xml', 14026749), ('/home/genne/Downloads/output/RTS27_7LTWFZYICNSX8D621K86_20180219_DBES.xml', 13963341), ('/home/genne/Downloads/output/RTS27_7LTWFZYICNSX8D621K86_20180601_DBES.xml', 13962692), ('/home/genne/Downloads/output/RTS27_7LTWFZYICNSX8D621K86_20180530_DBES.xml', 13953998), ('/home/genne/Downloads/output/RTS27_7LTWFZYICNSX8D621K86_20180426_DBES.xml', 13930201), ('/home/genne/Downloads/output/RTS27_7LTWFZYICNSX8D621K86_20180523_DBES.xml', 13927830), ('/home/genne/Downloads/output/RTS27_7LTWFZYICNSX8D621K86_20180108_DBES.xml', 13919048), ('/home/genne/Downloads/output/RTS27_7LTWFZYICNSX8D621K86_20180810_DBES.xml', 13902437), ('/home/genne/Downloads/output/RTS27_7LTWFZYICNSX8D621K86_20181128_DBES.xml', 13900544), ('/home/genne/Downloads/output/RTS27_7LTWFZYICNSX8D621K86_20181015_DBES.xml', 13887150), ('/home/genne/Downloads/output/RTS27_7LTWFZYICNSX8D621K86_20180605_DBES.xml', 13879281), ('/home/genne/Downloads/output/RTS27_7LTWFZYICNSX8D621K86_20181116_DBES.xml', 13868778), ('/home/genne/Downloads/output/RTS27_7LTWFZYICNSX8D621K86_20180524_DBES.xml', 13806583), ('/home/genne/Downloads/output/RTS27_7LTWFZYICNSX8D621K86_20181010_DBES.xml', 13790657), ('/home/genne/Downloads/output/RTS27_7LTWFZYICNSX8D621K86_20180418_DBES.xml', 13762145), ('/home/genne/Downloads/output/RTS27_7LTWFZYICNSX8D621K86_20180412_DBES.xml', 13732014), ('/home/genne/Downloads/output/RTS27_7LTWFZYICNSX8D621K86_20181114_DBES.xml', 13705250), ('/home/genne/Downloads/output/RTS27_7LTWFZYICNSX8D621K86_20180522_DBES.xml', 13702258), ('/home/genne/Downloads/output/RTS27_7LTWFZYICNSX8D621K86_20181001_DBES.xml', 13698533), ('/home/genne/Downloads/output/RTS27_7LTWFZYICNSX8D621K86_20181115_DBES.xml', 13672993), ('/home/genne/Downloads/output/RTS27_7LTWFZYICNSX8D621K86_20180607_DBES.xml', 13665807), ('/home/genne/Downloads/output/RTS27_7LTWFZYICNSX8D621K86_20180514_DBES.xml', 13650133), ('/home/genne/Downloads/output/RTS27_7LTWFZYICNSX8D621K86_20180509_DBES.xml', 13629629), ('/home/genne/Downloads/output/RTS27_7LTWFZYICNSX8D621K86_20180423_DBES.xml', 13628374), ('/home/genne/Downloads/output/RTS27_7LTWFZYICNSX8D621K86_20180508_DBES.xml', 13612806), ('/home/genne/Downloads/output/RTS27_7LTWFZYICNSX8D621K86_20180419_DBES.xml', 13604092), ('/home/genne/Downloads/output/RTS27_7LTWFZYICNSX8D621K86_20181009_DBES.xml', 13548129), ('/home/genne/Downloads/output/RTS27_7LTWFZYICNSX8D621K86_20180809_DBES.xml', 13518702), ('/home/genne/Downloads/output/RTS27_7LTWFZYICNSX8D621K86_20180413_DBES.xml', 13503262), ('/home/genne/Downloads/output/RTS27_7LTWFZYICNSX8D621K86_20180622_DBES.xml', 13499162), ('/home/genne/Downloads/output/RTS27_7LTWFZYICNSX8D621K86_20181113_DBES.xml', 13498811), ('/home/genne/Downloads/output/RTS27_7LTWFZYICNSX8D621K86_20180409_DBES.xml', 13498139), ('/home/genne/Downloads/output/RTS27_7LTWFZYICNSX8D621K86_20180517_DBES.xml', 13493567), ('/home/genne/Downloads/output/RTS27_7LTWFZYICNSX8D621K86_20181204_DBES.xml', 13490509), ('/home/genne/Downloads/output/RTS27_7LTWFZYICNSX8D621K86_20181012_DBES.xml', 13482061), ('/home/genne/Downloads/output/RTS27_7LTWFZYICNSX8D621K86_20180416_DBES.xml', 13440601), ('/home/genne/Downloads/output/RTS27_7LTWFZYICNSX8D621K86_20180406_DBES.xml', 13415951), ('/home/genne/Downloads/output/RTS27_7LTWFZYICNSX8D621K86_20180726_DBES.xml', 13415016), ('/home/genne/Downloads/output/RTS27_7LTWFZYICNSX8D621K86_20180518_DBES.xml', 13404280), ('/home/genne/Downloads/output/RTS27_7LTWFZYICNSX8D621K86_20181101_DBES.xml', 13403271), ('/home/genne/Downloads/output/RTS27_7LTWFZYICNSX8D621K86_20181016_DBES.xml', 13397421), ('/home/genne/Downloads/output/RTS27_7LTWFZYICNSX8D621K86_20181026_DBES.xml', 13388880), ('/home/genne/Downloads/output/RTS27_7LTWFZYICNSX8D621K86_20181029_DBES.xml', 13388060), ('/home/genne/Downloads/output/RTS27_7LTWFZYICNSX8D621K86_20180815_DBES.xml', 13353780), ('/home/genne/Downloads/output/RTS27_7LTWFZYICNSX8D621K86_20180802_DBES.xml', 13352707), ('/home/genne/Downloads/output/RTS27_7LTWFZYICNSX8D621K86_20180420_DBES.xml', 13343352), ('/home/genne/Downloads/output/RTS27_7LTWFZYICNSX8D621K86_20180511_DBES.xml', 13342701), ('/home/genne/Downloads/output/RTS27_7LTWFZYICNSX8D621K86_20181017_DBES.xml', 13341845), ('/home/genne/Downloads/output/RTS27_7LTWFZYICNSX8D621K86_20181025_DBES.xml', 13333430), ('/home/genne/Downloads/output/RTS27_7LTWFZYICNSX8D621K86_20180606_DBES.xml', 13328039), ('/home/genne/Downloads/output/RTS27_7LTWFZYICNSX8D621K86_20180709_DBES.xml', 13326699), ('/home/genne/Downloads/output/RTS27_7LTWFZYICNSX8D621K86_20180604_DBES.xml', 13315752), ('/home/genne/Downloads/output/RTS27_7LTWFZYICNSX8D621K86_20180724_DBES.xml', 13303453), ('/home/genne/Downloads/output/RTS27_7LTWFZYICNSX8D621K86_20181102_DBES.xml', 13284998), ('/home/genne/Downloads/output/RTS27_7LTWFZYICNSX8D621K86_20180608_DBES.xml', 13249346), ('/home/genne/Downloads/output/RTS27_7LTWFZYICNSX8D621K86_20181031_DBES.xml', 13237840), ('/home/genne/Downloads/output/RTS27_7LTWFZYICNSX8D621K86_20180321_DBES.xml', 13226916), ('/home/genne/Downloads/output/RTS27_7LTWFZYICNSX8D621K86_20180427_DBES.xml', 13214599), ('/home/genne/Downloads/output/RTS27_7LTWFZYICNSX8D621K86_20181206_DBES.xml', 13190104), ('/home/genne/Downloads/output/RTS27_7LTWFZYICNSX8D621K86_20181018_DBES.xml', 13157499), ('/home/genne/Downloads/output/RTS27_7LTWFZYICNSX8D621K86_20181210_DBES.xml', 13138130), ('/home/genne/Downloads/output/RTS27_7LTWFZYICNSX8D621K86_20181004_DBES.xml', 13127631), ('/home/genne/Downloads/output/RTS27_7LTWFZYICNSX8D621K86_20180920_DBES.xml', 13126600), ('/home/genne/Downloads/output/RTS27_7LTWFZYICNSX8D621K86_20180928_DBES.xml', 13120791), ('/home/genne/Downloads/output/RTS27_7LTWFZYICNSX8D621K86_20181119_DBES.xml', 13085811), ('/home/genne/Downloads/output/RTS27_7LTWFZYICNSX8D621K86_20181121_DBES.xml', 13073761), ('/home/genne/Downloads/output/RTS27_7LTWFZYICNSX8D621K86_20181109_DBES.xml', 13070695), ('/home/genne/Downloads/output/RTS27_7LTWFZYICNSX8D621K86_20181024_DBES.xml', 13055063), ('/home/genne/Downloads/output/RTS27_7LTWFZYICNSX8D621K86_20180808_DBES.xml', 13054866), ('/home/genne/Downloads/output/RTS27_7LTWFZYICNSX8D621K86_20181127_DBES.xml', 13048968), ('/home/genne/Downloads/output/RTS27_7LTWFZYICNSX8D621K86_20181129_DBES.xml', 13047999), ('/home/genne/Downloads/output/RTS27_7LTWFZYICNSX8D621K86_20180706_DBES.xml', 13033966), ('/home/genne/Downloads/output/RTS27_7LTWFZYICNSX8D621K86_20180801_DBES.xml', 13028958), ('/home/genne/Downloads/output/RTS27_7LTWFZYICNSX8D621K86_20180102_DBES.xml', 13024748), ('/home/genne/Downloads/output/RTS27_7LTWFZYICNSX8D621K86_20180905_DBES.xml', 13007901), ('/home/genne/Downloads/output/RTS27_7LTWFZYICNSX8D621K86_20180813_DBES.xml', 12993933), ('/home/genne/Downloads/output/RTS27_7LTWFZYICNSX8D621K86_20181023_DBES.xml', 12985593), ('/home/genne/Downloads/output/RTS27_7LTWFZYICNSX8D621K86_20181211_DBES.xml', 12976276), ('/home/genne/Downloads/output/RTS27_7LTWFZYICNSX8D621K86_20181112_DBES.xml', 12972090), ('/home/genne/Downloads/output/RTS27_7LTWFZYICNSX8D621K86_20180531_DBES.xml', 12949721), ('/home/genne/Downloads/output/RTS27_7LTWFZYICNSX8D621K86_20180430_DBES.xml', 12942690), ('/home/genne/Downloads/output/RTS27_7LTWFZYICNSX8D621K86_20180126_DBES.xml', 12896575), ('/home/genne/Downloads/output/RTS27_7LTWFZYICNSX8D621K86_20181107_DBES.xml', 12860361), ('/home/genne/Downloads/output/RTS27_7LTWFZYICNSX8D621K86_20180503_DBES.xml', 12826822), ('/home/genne/Downloads/output/RTS27_7LTWFZYICNSX8D621K86_20180425_DBES.xml', 12816298), ('/home/genne/Downloads/output/RTS27_7LTWFZYICNSX8D621K86_20180703_DBES.xml', 12795292), ('/home/genne/Downloads/output/RTS27_7LTWFZYICNSX8D621K86_20180906_DBES.xml', 12793728), ('/home/genne/Downloads/output/RTS27_7LTWFZYICNSX8D621K86_20181126_DBES.xml', 12763424), ('/home/genne/Downloads/output/RTS27_7LTWFZYICNSX8D621K86_20180719_DBES.xml', 12708839), ('/home/genne/Downloads/output/RTS27_7LTWFZYICNSX8D621K86_20180504_DBES.xml', 12706289), ('/home/genne/Downloads/output/RTS27_7LTWFZYICNSX8D621K86_20180702_DBES.xml', 12706086), ('/home/genne/Downloads/output/RTS27_7LTWFZYICNSX8D621K86_20180727_DBES.xml', 12694867), ('/home/genne/Downloads/output/RTS27_7LTWFZYICNSX8D621K86_20180925_DBES.xml', 12690623), ('/home/genne/Downloads/output/RTS27_7LTWFZYICNSX8D621K86_20180710_DBES.xml', 12683116), ('/home/genne/Downloads/output/RTS27_7LTWFZYICNSX8D621K86_20180730_DBES.xml', 12656776), ('/home/genne/Downloads/output/RTS27_7LTWFZYICNSX8D621K86_20180816_DBES.xml', 12648358), ('/home/genne/Downloads/output/RTS27_7LTWFZYICNSX8D621K86_20181105_DBES.xml', 12642322), ('/home/genne/Downloads/output/RTS27_7LTWFZYICNSX8D621K86_20180830_DBES.xml', 12632002), ('/home/genne/Downloads/output/RTS27_7LTWFZYICNSX8D621K86_20180831_DBES.xml', 12628528), ('/home/genne/Downloads/output/RTS27_7LTWFZYICNSX8D621K86_20181106_DBES.xml', 12623583), ('/home/genne/Downloads/output/RTS27_7LTWFZYICNSX8D621K86_20180711_DBES.xml', 12621302), ('/home/genne/Downloads/output/RTS27_7LTWFZYICNSX8D621K86_20181005_DBES.xml', 12613018), ('/home/genne/Downloads/output/RTS27_7LTWFZYICNSX8D621K86_20180913_DBES.xml', 12609436), ('/home/genne/Downloads/output/RTS27_7LTWFZYICNSX8D621K86_20180731_DBES.xml', 12608052), ('/home/genne/Downloads/output/RTS27_7LTWFZYICNSX8D621K86_20181108_DBES.xml', 12591139), ('/home/genne/Downloads/output/RTS27_7LTWFZYICNSX8D621K86_20180822_DBES.xml', 12590880), ('/home/genne/Downloads/output/RTS27_7LTWFZYICNSX8D621K86_20181130_DBES.xml', 12575877), ('/home/genne/Downloads/output/RTS27_7LTWFZYICNSX8D621K86_20180904_DBES.xml', 12575608), ('/home/genne/Downloads/output/RTS27_7LTWFZYICNSX8D621K86_20180918_DBES.xml', 12556087), ('/home/genne/Downloads/output/RTS27_7LTWFZYICNSX8D621K86_20181219_DBES.xml', 12547193), ('/home/genne/Downloads/output/RTS27_7LTWFZYICNSX8D621K86_20180911_DBES.xml', 12543582), ('/home/genne/Downloads/output/RTS27_7LTWFZYICNSX8D621K86_20180803_DBES.xml', 12537806), ('/home/genne/Downloads/output/RTS27_7LTWFZYICNSX8D621K86_20180817_DBES.xml', 12535005), ('/home/genne/Downloads/output/RTS27_7LTWFZYICNSX8D621K86_20180720_DBES.xml', 12507620), ('/home/genne/Downloads/output/RTS27_7LTWFZYICNSX8D621K86_20180828_DBES.xml', 12504937), ('/home/genne/Downloads/output/RTS27_7LTWFZYICNSX8D621K86_20181122_DBES.xml', 12503653), ('/home/genne/Downloads/output/RTS27_7LTWFZYICNSX8D621K86_20180712_DBES.xml', 12492052), ('/home/genne/Downloads/output/RTS27_7LTWFZYICNSX8D621K86_20180717_DBES.xml', 12490163), ('/home/genne/Downloads/output/RTS27_7LTWFZYICNSX8D621K86_20181019_DBES.xml', 12471455), ('/home/genne/Downloads/output/RTS27_7LTWFZYICNSX8D621K86_20181212_DBES.xml', 12471285), ('/home/genne/Downloads/output/RTS27_7LTWFZYICNSX8D621K86_20190109_DBES.xml', 12440919), ('/home/genne/Downloads/output/RTS27_7LTWFZYICNSX8D621K86_20180927_DBES.xml', 12437301), ('/home/genne/Downloads/output/RTS27_7LTWFZYICNSX8D621K86_20180912_DBES.xml', 12435520), ('/home/genne/Downloads/output/RTS27_7LTWFZYICNSX8D621K86_20181030_DBES.xml', 12434681), ('/home/genne/Downloads/output/RTS27_7LTWFZYICNSX8D621K86_20181002_DBES.xml', 12420425), ('/home/genne/Downloads/output/RTS27_7LTWFZYICNSX8D621K86_20180718_DBES.xml', 12406585), ('/home/genne/Downloads/output/RTS27_7LTWFZYICNSX8D621K86_20180814_DBES.xml', 12385348), ('/home/genne/Downloads/output/RTS27_7LTWFZYICNSX8D621K86_20180713_DBES.xml', 12365014), ('/home/genne/Downloads/output/RTS27_7LTWFZYICNSX8D621K86_20180725_DBES.xml', 12347217), ('/home/genne/Downloads/output/RTS27_7LTWFZYICNSX8D621K86_20180705_DBES.xml', 12305087), ('/home/genne/Downloads/output/RTS27_7LTWFZYICNSX8D621K86_20180829_DBES.xml', 12298369), ('/home/genne/Downloads/output/RTS27_7LTWFZYICNSX8D621K86_20181008_DBES.xml', 12295661), ('/home/genne/Downloads/output/RTS27_7LTWFZYICNSX8D621K86_20180921_DBES.xml', 12279058), ('/home/genne/Downloads/output/RTS27_7LTWFZYICNSX8D621K86_20190618_DBES.xml', 12264337), ('/home/genne/Downloads/output/RTS27_7LTWFZYICNSX8D621K86_20190301_DBES.xml', 12241088), ('/home/genne/Downloads/output/RTS27_7LTWFZYICNSX8D621K86_20180919_DBES.xml', 12230105), ('/home/genne/Downloads/output/RTS27_7LTWFZYICNSX8D621K86_20180821_DBES.xml', 12219955), ('/home/genne/Downloads/output/RTS27_7LTWFZYICNSX8D621K86_20180910_DBES.xml', 12213513), ('/home/genne/Downloads/output/RTS27_7LTWFZYICNSX8D621K86_20181213_DBES.xml', 12181452), ('/home/genne/Downloads/output/RTS27_7LTWFZYICNSX8D621K86_20180820_DBES.xml', 12180971), ('/home/genne/Downloads/output/RTS27_7LTWFZYICNSX8D621K86_20190201_DBES.xml', 12167349), ('/home/genne/Downloads/output/RTS27_7LTWFZYICNSX8D621K86_20190131_DBES.xml', 12165208), ('/home/genne/Downloads/output/RTS27_7LTWFZYICNSX8D621K86_20180907_DBES.xml', 12164238), ('/home/genne/Downloads/output/RTS27_7LTWFZYICNSX8D621K86_20180807_DBES.xml', 12147567), ('/home/genne/Downloads/output/RTS27_7LTWFZYICNSX8D621K86_20190507_DBES.xml', 12136450), ('/home/genne/Downloads/output/RTS27_7LTWFZYICNSX8D621K86_20190104_DBES.xml', 12135192), ('/home/genne/Downloads/output/RTS27_7LTWFZYICNSX8D621K86_20190107_DBES.xml', 12120134), ('/home/genne/Downloads/output/RTS27_7LTWFZYICNSX8D621K86_20180723_DBES.xml', 12097483), ('/home/genne/Downloads/output/RTS27_7LTWFZYICNSX8D621K86_20180806_DBES.xml', 12089894), ('/home/genne/Downloads/output/RTS27_7LTWFZYICNSX8D621K86_20181227_DBES.xml', 12078878), ('/home/genne/Downloads/output/RTS27_7LTWFZYICNSX8D621K86_20190307_DBES.xml', 12076733), ('/home/genne/Downloads/output/RTS27_7LTWFZYICNSX8D621K86_20180914_DBES.xml', 12069602), ('/home/genne/Downloads/output/RTS27_7LTWFZYICNSX8D621K86_20181218_DBES.xml', 12059963), ('/home/genne/Downloads/output/RTS27_7LTWFZYICNSX8D621K86_20180926_DBES.xml', 12059102), ('/home/genne/Downloads/output/RTS27_7LTWFZYICNSX8D621K86_20190515_DBES.xml', 12030046), ('/home/genne/Downloads/output/RTS27_7LTWFZYICNSX8D621K86_20181022_DBES.xml', 12026990), ('/home/genne/Downloads/output/RTS27_7LTWFZYICNSX8D621K86_20190513_DBES.xml', 11971701), ('/home/genne/Downloads/output/RTS27_7LTWFZYICNSX8D621K86_20190108_DBES.xml', 11958004), ('/home/genne/Downloads/output/RTS27_7LTWFZYICNSX8D621K86_20181214_DBES.xml', 11871377), ('/home/genne/Downloads/output/RTS27_7LTWFZYICNSX8D621K86_20190207_DBES.xml', 11855216), ('/home/genne/Downloads/output/RTS27_7LTWFZYICNSX8D621K86_20190118_DBES.xml', 11781334), ('/home/genne/Downloads/output/RTS27_7LTWFZYICNSX8D621K86_20181217_DBES.xml', 11779830), ('/home/genne/Downloads/output/RTS27_7LTWFZYICNSX8D621K86_20180823_DBES.xml', 11773210), ('/home/genne/Downloads/output/RTS27_7LTWFZYICNSX8D621K86_20180824_DBES.xml', 11766743), ('/home/genne/Downloads/output/RTS27_7LTWFZYICNSX8D621K86_20190110_DBES.xml', 11741807), ('/home/genne/Downloads/output/RTS27_7LTWFZYICNSX8D621K86_20181205_DBES.xml', 11735010), ('/home/genne/Downloads/output/RTS27_7LTWFZYICNSX8D621K86_20181221_DBES.xml', 11720135), ('/home/genne/Downloads/output/RTS27_7LTWFZYICNSX8D621K86_20190611_DBES.xml', 11704213), ('/home/genne/Downloads/output/RTS27_7LTWFZYICNSX8D621K86_20190214_DBES.xml', 11667502), ('/home/genne/Downloads/output/RTS27_7LTWFZYICNSX8D621K86_20190508_DBES.xml', 11619515), ('/home/genne/Downloads/output/RTS27_7LTWFZYICNSX8D621K86_20190125_DBES.xml', 11616994), ('/home/genne/Downloads/output/RTS27_7LTWFZYICNSX8D621K86_20190315_DBES.xml', 11604611), ('/home/genne/Downloads/output/RTS27_7LTWFZYICNSX8D621K86_20190319_DBES.xml', 11591818), ('/home/genne/Downloads/output/RTS27_7LTWFZYICNSX8D621K86_20190204_DBES.xml', 11587458), ('/home/genne/Downloads/output/RTS27_7LTWFZYICNSX8D621K86_20190514_DBES.xml', 11580575), ('/home/genne/Downloads/output/RTS27_7LTWFZYICNSX8D621K86_20181220_DBES.xml', 11579667), ('/home/genne/Downloads/output/RTS27_7LTWFZYICNSX8D621K86_20190604_DBES.xml', 11554376), ('/home/genne/Downloads/output/RTS27_7LTWFZYICNSX8D621K86_20190401_DBES.xml', 11553900), ('/home/genne/Downloads/output/RTS27_7LTWFZYICNSX8D621K86_20181123_DBES.xml', 11537644), ('/home/genne/Downloads/output/RTS27_7LTWFZYICNSX8D621K86_20190701_DBES.xml', 11527471), ('/home/genne/Downloads/output/RTS27_7LTWFZYICNSX8D621K86_20190130_DBES.xml', 11521368), ('/home/genne/Downloads/output/RTS27_7LTWFZYICNSX8D621K86_20190228_DBES.xml', 11519087), ('/home/genne/Downloads/output/RTS27_7LTWFZYICNSX8D621K86_20190620_DBES.xml', 11503621), ('/home/genne/Downloads/output/RTS27_7LTWFZYICNSX8D621K86_20180716_DBES.xml', 11501568), ('/home/genne/Downloads/output/RTS27_7LTWFZYICNSX8D621K86_20190529_DBES.xml', 11465641), ('/home/genne/Downloads/output/RTS27_7LTWFZYICNSX8D621K86_20190305_DBES.xml', 11441908), ('/home/genne/Downloads/output/RTS27_7LTWFZYICNSX8D621K86_20190516_DBES.xml', 11435937), ('/home/genne/Downloads/output/RTS27_7LTWFZYICNSX8D621K86_20190312_DBES.xml', 11351176), ('/home/genne/Downloads/output/RTS27_7LTWFZYICNSX8D621K86_20180903_DBES.xml', 11349196), ('/home/genne/Downloads/output/RTS27_7LTWFZYICNSX8D621K86_20190225_DBES.xml', 11339072), ('/home/genne/Downloads/output/RTS27_7LTWFZYICNSX8D621K86_20190215_DBES.xml', 11336724), ('/home/genne/Downloads/output/RTS27_7LTWFZYICNSX8D621K86_20180510_DBES.xml', 11335960), ('/home/genne/Downloads/output/RTS27_7LTWFZYICNSX8D621K86_20190424_DBES.xml', 11330382), ('/home/genne/Downloads/output/RTS27_7LTWFZYICNSX8D621K86_20180704_DBES.xml', 11310094), ('/home/genne/Downloads/output/RTS27_7LTWFZYICNSX8D621K86_20190520_DBES.xml', 11300115), ('/home/genne/Downloads/output/RTS27_7LTWFZYICNSX8D621K86_20190523_DBES.xml', 11296175), ('/home/genne/Downloads/output/RTS27_7LTWFZYICNSX8D621K86_20190213_DBES.xml', 11276096), ('/home/genne/Downloads/output/RTS27_7LTWFZYICNSX8D621K86_20190603_DBES.xml', 11271209), ('/home/genne/Downloads/output/RTS27_7LTWFZYICNSX8D621K86_20190205_DBES.xml', 11261496), ('/home/genne/Downloads/output/RTS27_7LTWFZYICNSX8D621K86_20190123_DBES.xml', 11248689), ('/home/genne/Downloads/output/RTS27_7LTWFZYICNSX8D621K86_20190208_DBES.xml', 11238125), ('/home/genne/Downloads/output/RTS27_7LTWFZYICNSX8D621K86_20190221_DBES.xml', 11228058), ('/home/genne/Downloads/output/RTS27_7LTWFZYICNSX8D621K86_20190322_DBES.xml', 11223772), ('/home/genne/Downloads/output/RTS27_7LTWFZYICNSX8D621K86_20190122_DBES.xml', 11207332), ('/home/genne/Downloads/output/RTS27_7LTWFZYICNSX8D621K86_20190129_DBES.xml', 11205753), ('/home/genne/Downloads/output/RTS27_7LTWFZYICNSX8D621K86_20190426_DBES.xml', 11202963), ('/home/genne/Downloads/output/RTS27_7LTWFZYICNSX8D621K86_20190625_DBES.xml', 11196426), ('/home/genne/Downloads/output/RTS27_7LTWFZYICNSX8D621K86_20190124_DBES.xml', 11167143), ('/home/genne/Downloads/output/RTS27_7LTWFZYICNSX8D621K86_20190227_DBES.xml', 11155839), ('/home/genne/Downloads/output/RTS27_7LTWFZYICNSX8D621K86_20190605_DBES.xml', 11151733), ('/home/genne/Downloads/output/RTS27_7LTWFZYICNSX8D621K86_20190327_DBES.xml', 11151233), ('/home/genne/Downloads/output/RTS27_7LTWFZYICNSX8D621K86_20190430_DBES.xml', 11142513), ('/home/genne/Downloads/output/RTS27_7LTWFZYICNSX8D621K86_20190212_DBES.xml', 11125234), ('/home/genne/Downloads/output/RTS27_7LTWFZYICNSX8D621K86_20190103_DBES.xml', 11111562), ('/home/genne/Downloads/output/RTS27_7LTWFZYICNSX8D621K86_20190308_DBES.xml', 11102977), ('/home/genne/Downloads/output/RTS27_7LTWFZYICNSX8D621K86_20190311_DBES.xml', 11099362), ('/home/genne/Downloads/output/RTS27_7LTWFZYICNSX8D621K86_20190226_DBES.xml', 11089844), ('/home/genne/Downloads/output/RTS27_7LTWFZYICNSX8D621K86_20190402_DBES.xml', 11075409), ('/home/genne/Downloads/output/RTS27_7LTWFZYICNSX8D621K86_20190531_DBES.xml', 11075349), ('/home/genne/Downloads/output/RTS27_7LTWFZYICNSX8D621K86_20190220_DBES.xml', 11070418), ('/home/genne/Downloads/output/RTS27_7LTWFZYICNSX8D621K86_20190403_DBES.xml', 11067216), ('/home/genne/Downloads/output/RTS27_7LTWFZYICNSX8D621K86_20190329_DBES.xml', 11064145), ('/home/genne/Downloads/output/RTS27_7LTWFZYICNSX8D621K86_20190320_DBES.xml', 11054461), ('/home/genne/Downloads/output/RTS27_7LTWFZYICNSX8D621K86_20190614_DBES.xml', 11032413), ('/home/genne/Downloads/output/RTS27_7LTWFZYICNSX8D621K86_20190313_DBES.xml', 11032085), ('/home/genne/Downloads/output/RTS27_7LTWFZYICNSX8D621K86_20190510_DBES.xml', 11031475), ('/home/genne/Downloads/output/RTS27_7LTWFZYICNSX8D621K86_20190326_DBES.xml', 11020461), ('/home/genne/Downloads/output/RTS27_7LTWFZYICNSX8D621K86_20190702_DBES.xml', 11001757), ('/home/genne/Downloads/output/RTS27_7LTWFZYICNSX8D621K86_20190318_DBES.xml', 10999582), ('/home/genne/Downloads/output/RTS27_7LTWFZYICNSX8D621K86_20190206_DBES.xml', 10988357), ('/home/genne/Downloads/output/RTS27_7LTWFZYICNSX8D621K86_20190325_DBES.xml', 10983278), ('/home/genne/Downloads/output/RTS27_7LTWFZYICNSX8D621K86_20190521_DBES.xml', 10967344), ('/home/genne/Downloads/output/RTS27_7LTWFZYICNSX8D621K86_20190102_DBES.xml', 10965164), ('/home/genne/Downloads/output/RTS27_7LTWFZYICNSX8D621K86_20180917_DBES.xml', 10935410), ('/home/genne/Downloads/output/RTS27_7LTWFZYICNSX8D621K86_20190423_DBES.xml', 10915227), ('/home/genne/Downloads/output/RTS27_7LTWFZYICNSX8D621K86_20190628_DBES.xml', 10914310), ('/home/genne/Downloads/output/RTS27_7LTWFZYICNSX8D621K86_20190612_DBES.xml', 10909851), ('/home/genne/Downloads/output/RTS27_7LTWFZYICNSX8D621K86_20180507_DBES.xml', 10905827), ('/home/genne/Downloads/output/RTS27_7LTWFZYICNSX8D621K86_20190219_DBES.xml', 10895581), ('/home/genne/Downloads/output/RTS27_7LTWFZYICNSX8D621K86_20180924_DBES.xml', 10890314), ('/home/genne/Downloads/output/RTS27_7LTWFZYICNSX8D621K86_20190314_DBES.xml', 10873274), ('/home/genne/Downloads/output/RTS27_7LTWFZYICNSX8D621K86_20190522_DBES.xml', 10867631), ('/home/genne/Downloads/output/RTS27_7LTWFZYICNSX8D621K86_20190627_DBES.xml', 10842488), ('/home/genne/Downloads/output/RTS27_7LTWFZYICNSX8D621K86_20190619_DBES.xml', 10838415), ('/home/genne/Downloads/output/RTS27_7LTWFZYICNSX8D621K86_20190626_DBES.xml', 10835798), ('/home/genne/Downloads/output/RTS27_7LTWFZYICNSX8D621K86_20190304_DBES.xml', 10790356), ('/home/genne/Downloads/output/RTS27_7LTWFZYICNSX8D621K86_20190613_DBES.xml', 10787244), ('/home/genne/Downloads/output/RTS27_7LTWFZYICNSX8D621K86_20190415_DBES.xml', 10783973), ('/home/genne/Downloads/output/RTS27_7LTWFZYICNSX8D621K86_20190404_DBES.xml', 10778626), ('/home/genne/Downloads/output/RTS27_7LTWFZYICNSX8D621K86_20190503_DBES.xml', 10759706), ('/home/genne/Downloads/output/RTS27_7LTWFZYICNSX8D621K86_20190306_DBES.xml', 10740657), ('/home/genne/Downloads/output/RTS27_7LTWFZYICNSX8D621K86_20190502_DBES.xml', 10730320), ('/home/genne/Downloads/output/RTS27_7LTWFZYICNSX8D621K86_20181207_DBES.xml', 10726206), ('/home/genne/Downloads/output/RTS27_7LTWFZYICNSX8D621K86_20190607_DBES.xml', 10701556), ('/home/genne/Downloads/output/RTS27_7LTWFZYICNSX8D621K86_20190624_DBES.xml', 10681038), ('/home/genne/Downloads/output/RTS27_7LTWFZYICNSX8D621K86_20190222_DBES.xml', 10680187), ('/home/genne/Downloads/output/RTS27_7LTWFZYICNSX8D621K86_20190411_DBES.xml', 10676797), ('/home/genne/Downloads/output/RTS27_7LTWFZYICNSX8D621K86_20180528_DBES.xml', 10670948), ('/home/genne/Downloads/output/RTS27_7LTWFZYICNSX8D621K86_20190606_DBES.xml', 10662142), ('/home/genne/Downloads/output/RTS27_7LTWFZYICNSX8D621K86_20190528_DBES.xml', 10656053), ('/home/genne/Downloads/output/RTS27_7LTWFZYICNSX8D621K86_20190328_DBES.xml', 10653320), ('/home/genne/Downloads/output/RTS27_7LTWFZYICNSX8D621K86_20190517_DBES.xml', 10602436), ('/home/genne/Downloads/output/RTS27_7LTWFZYICNSX8D621K86_20190321_DBES.xml', 10593340), ('/home/genne/Downloads/output/RTS27_7LTWFZYICNSX8D621K86_20190115_DBES.xml', 10578934), ('/home/genne/Downloads/output/RTS27_7LTWFZYICNSX8D621K86_20190417_DBES.xml', 10573164), ('/home/genne/Downloads/output/RTS27_7LTWFZYICNSX8D621K86_20190211_DBES.xml', 10566249), ('/home/genne/Downloads/output/RTS27_7LTWFZYICNSX8D621K86_20190121_DBES.xml', 10532812), ('/home/genne/Downloads/output/RTS27_7LTWFZYICNSX8D621K86_20190524_DBES.xml', 10505464), ('/home/genne/Downloads/output/RTS27_7LTWFZYICNSX8D621K86_20190703_DBES.xml', 10487645), ('/home/genne/Downloads/output/RTS27_7LTWFZYICNSX8D621K86_20190416_DBES.xml', 10435461), ('/home/genne/Downloads/output/RTS27_7LTWFZYICNSX8D621K86_20190405_DBES.xml', 10383864), ('/home/genne/Downloads/output/RTS27_7LTWFZYICNSX8D621K86_20190116_DBES.xml', 10366066), ('/home/genne/Downloads/output/RTS27_7LTWFZYICNSX8D621K86_20190410_DBES.xml', 10360851), ('/home/genne/Downloads/output/RTS27_7LTWFZYICNSX8D621K86_20190617_DBES.xml', 10352866), ('/home/genne/Downloads/output/RTS27_7LTWFZYICNSX8D621K86_20190621_DBES.xml', 10274254), ('/home/genne/Downloads/output/RTS27_7LTWFZYICNSX8D621K86_20190709_DBES.xml', 10265022), ('/home/genne/Downloads/output/RTS27_7LTWFZYICNSX8D621K86_20190408_DBES.xml', 10230780), ('/home/genne/Downloads/output/RTS27_7LTWFZYICNSX8D621K86_20181228_DBES.xml', 10175661), ('/home/genne/Downloads/output/RTS27_7LTWFZYICNSX8D621K86_20190218_DBES.xml', 10162846), ('/home/genne/Downloads/output/RTS27_7LTWFZYICNSX8D621K86_20190708_DBES.xml', 10123472), ('/home/genne/Downloads/output/RTS27_7LTWFZYICNSX8D621K86_20190117_DBES.xml', 10118053), ('/home/genne/Downloads/output/RTS27_7LTWFZYICNSX8D621K86_20190409_DBES.xml', 10108786), ('/home/genne/Downloads/output/RTS27_7LTWFZYICNSX8D621K86_20190412_DBES.xml', 10075296), ('/home/genne/Downloads/output/RTS27_7LTWFZYICNSX8D621K86_20190111_DBES.xml', 10048749), ('/home/genne/Downloads/output/RTS27_7LTWFZYICNSX8D621K86_20190418_DBES.xml', 10045148), ('/home/genne/Downloads/output/RTS27_7LTWFZYICNSX8D621K86_20190425_DBES.xml', 10004801), ('/home/genne/Downloads/output/RTS27_7LTWFZYICNSX8D621K86_20190705_DBES.xml', 9959827), ('/home/genne/Downloads/output/RTS27_7LTWFZYICNSX8D621K86_20190128_DBES.xml', 9911719), ('/home/genne/Downloads/output/RTS27_7LTWFZYICNSX8D621K86_20190710_DBES.xml', 9866087), ('/home/genne/Downloads/output/RTS27_7LTWFZYICNSX8D621K86_20180827_DBES.xml', 9782133), ('/home/genne/Downloads/output/RTS27_7LTWFZYICNSX8D621K86_20190711_DBES.xml', 9752918), ('/home/genne/Downloads/output/RTS27_7LTWFZYICNSX8D621K86_20190114_DBES.xml', 9519026), ('/home/genne/Downloads/output/RTS27_7LTWFZYICNSX8D621K86_20181003_DBES.xml', 9465957), ('/home/genne/Downloads/output/RTS27_7LTWFZYICNSX8D621K86_20190712_DBES.xml', 9358212), ('/home/genne/Downloads/output/RTS27_7LTWFZYICNSX8D621K86_20190704_DBES.xml', 9268296), ('/home/genne/Downloads/output/RTS27_7LTWFZYICNSX8D621K86_20190506_DBES.xml', 9255948), ('/home/genne/Downloads/output/RTS27_7LTWFZYICNSX8D621K86_20180521_DBES.xml', 8771817), ('/home/genne/Downloads/output/RTS27_7LTWFZYICNSX8D621K86_20190530_DBES.xml', 8732173), ('/home/genne/Downloads/output/RTS27_7LTWFZYICNSX8D621K86_20190527_DBES.xml', 7974014), ('/home/genne/Downloads/output/RTS27_7LTWFZYICNSX8D621K86_20190715_DBES.xml', 7898459), ('/home/genne/Downloads/output/RTS27_7LTWFZYICNSX8D621K86_20190725_DBES.xml', 7816763), ('/home/genne/Downloads/output/RTS27_7LTWFZYICNSX8D621K86_20190722_DBES.xml', 7751998), ('/home/genne/Downloads/output/RTS27_7LTWFZYICNSX8D621K86_20190716_DBES.xml', 7687779), ('/home/genne/Downloads/output/RTS27_7LTWFZYICNSX8D621K86_20190718_DBES.xml', 7508664), ('/home/genne/Downloads/output/RTS27_7LTWFZYICNSX8D621K86_20190717_DBES.xml', 7353491), ('/home/genne/Downloads/output/RTS27_7LTWFZYICNSX8D621K86_20190723_DBES.xml', 7278595), ('/home/genne/Downloads/output/RTS27_7LTWFZYICNSX8D621K86_20190724_DBES.xml', 7232653), ('/home/genne/Downloads/output/RTS27_7LTWFZYICNSX8D621K86_20190805_DBES.xml', 7125382), ('/home/genne/Downloads/output/RTS27_7LTWFZYICNSX8D621K86_20190719_DBES.xml', 7049734), ('/home/genne/Downloads/output/RTS27_7LTWFZYICNSX8D621K86_20190912_DBES.xml', 6771975), ('/home/genne/Downloads/output/RTS27_7LTWFZYICNSX8D621K86_20190802_DBES.xml', 6722515), ('/home/genne/Downloads/output/RTS27_7LTWFZYICNSX8D621K86_20190729_DBES.xml', 6706833), ('/home/genne/Downloads/output/RTS27_7LTWFZYICNSX8D621K86_20190731_DBES.xml', 6686709), ('/home/genne/Downloads/output/RTS27_7LTWFZYICNSX8D621K86_20190813_DBES.xml', 6651158), ('/home/genne/Downloads/output/RTS27_7LTWFZYICNSX8D621K86_20190807_DBES.xml', 6517021), ('/home/genne/Downloads/output/RTS27_7LTWFZYICNSX8D621K86_20190801_DBES.xml', 6506753), ('/home/genne/Downloads/output/RTS27_7LTWFZYICNSX8D621K86_20190806_DBES.xml', 6489539), ('/home/genne/Downloads/output/RTS27_7LTWFZYICNSX8D621K86_20180501_DBES.xml', 6462124), ('/home/genne/Downloads/output/RTS27_7LTWFZYICNSX8D621K86_20190814_DBES.xml', 6447106), ('/home/genne/Downloads/output/RTS27_7LTWFZYICNSX8D621K86_20190911_DBES.xml', 6438793), ('/home/genne/Downloads/output/RTS27_7LTWFZYICNSX8D621K86_20190815_DBES.xml', 6400567), ('/home/genne/Downloads/output/RTS27_7LTWFZYICNSX8D621K86_20190730_DBES.xml', 6398069), ('/home/genne/Downloads/output/RTS27_7LTWFZYICNSX8D621K86_20190905_DBES.xml', 6355107), ('/home/genne/Downloads/output/RTS27_7LTWFZYICNSX8D621K86_20190726_DBES.xml', 6234587), ('/home/genne/Downloads/output/RTS27_7LTWFZYICNSX8D621K86_20190904_DBES.xml', 6225183), ('/home/genne/Downloads/output/RTS27_7LTWFZYICNSX8D621K86_20190610_DBES.xml', 6149132), ('/home/genne/Downloads/output/RTS27_7LTWFZYICNSX8D621K86_20190910_DBES.xml', 6115027), ('/home/genne/Downloads/output/RTS27_7LTWFZYICNSX8D621K86_20190808_DBES.xml', 6057202), ('/home/genne/Downloads/output/RTS27_7LTWFZYICNSX8D621K86_20190903_DBES.xml', 6031328), ('/home/genne/Downloads/output/RTS27_7LTWFZYICNSX8D621K86_20190819_DBES.xml', 5971117), ('/home/genne/Downloads/output/RTS27_7LTWFZYICNSX8D621K86_20190812_DBES.xml', 5821364), ('/home/genne/Downloads/output/RTS27_7LTWFZYICNSX8D621K86_20191002_DBES.xml', 5776312), ('/home/genne/Downloads/output/RTS27_7LTWFZYICNSX8D621K86_20190906_DBES.xml', 5717870), ('/home/genne/Downloads/output/RTS27_7LTWFZYICNSX8D621K86_20190823_DBES.xml', 5705680), ('/home/genne/Downloads/output/RTS27_7LTWFZYICNSX8D621K86_20190809_DBES.xml', 5703750), ('/home/genne/Downloads/output/RTS27_7LTWFZYICNSX8D621K86_20190820_DBES.xml', 5625619), ('/home/genne/Downloads/output/RTS27_7LTWFZYICNSX8D621K86_20190909_DBES.xml', 5614574), ('/home/genne/Downloads/output/RTS27_7LTWFZYICNSX8D621K86_20190822_DBES.xml', 5612881), ('/home/genne/Downloads/output/RTS27_7LTWFZYICNSX8D621K86_20191011_DBES.xml', 5602640), ('/home/genne/Downloads/output/RTS27_7LTWFZYICNSX8D621K86_20191017_DBES.xml', 5599266), ('/home/genne/Downloads/output/RTS27_7LTWFZYICNSX8D621K86_20190821_DBES.xml', 5589105), ('/home/genne/Downloads/output/RTS27_7LTWFZYICNSX8D621K86_20191015_DBES.xml', 5493909), ('/home/genne/Downloads/output/RTS27_7LTWFZYICNSX8D621K86_20190828_DBES.xml', 5478518), ('/home/genne/Downloads/output/RTS27_7LTWFZYICNSX8D621K86_20190827_DBES.xml', 5477607), ('/home/genne/Downloads/output/RTS27_7LTWFZYICNSX8D621K86_20190816_DBES.xml', 5470652), ('/home/genne/Downloads/output/RTS27_7LTWFZYICNSX8D621K86_20190927_DBES.xml', 5456844), ('/home/genne/Downloads/output/RTS27_7LTWFZYICNSX8D621K86_20191108_DBES.xml', 5445466), ('/home/genne/Downloads/output/RTS27_7LTWFZYICNSX8D621K86_20190829_DBES.xml', 5445448), ('/home/genne/Downloads/output/RTS27_7LTWFZYICNSX8D621K86_20191107_DBES.xml', 5431005), ('/home/genne/Downloads/output/RTS27_7LTWFZYICNSX8D621K86_20190913_DBES.xml', 5387010), ('/home/genne/Downloads/output/RTS27_7LTWFZYICNSX8D621K86_20190918_DBES.xml', 5380138), ('/home/genne/Downloads/output/RTS27_7LTWFZYICNSX8D621K86_20190930_DBES.xml', 5297347), ('/home/genne/Downloads/output/RTS27_7LTWFZYICNSX8D621K86_20190925_DBES.xml', 5296970), ('/home/genne/Downloads/output/RTS27_7LTWFZYICNSX8D621K86_20190917_DBES.xml', 5285154), ('/home/genne/Downloads/output/RTS27_7LTWFZYICNSX8D621K86_20191113_DBES.xml', 5260391), ('/home/genne/Downloads/output/RTS27_7LTWFZYICNSX8D621K86_20191028_DBES.xml', 5254670), ('/home/genne/Downloads/output/RTS27_7LTWFZYICNSX8D621K86_20191018_DBES.xml', 5233379), ('/home/genne/Downloads/output/RTS27_7LTWFZYICNSX8D621K86_20190919_DBES.xml', 5216821), ('/home/genne/Downloads/output/RTS27_7LTWFZYICNSX8D621K86_20191031_DBES.xml', 5191346), ('/home/genne/Downloads/output/RTS27_7LTWFZYICNSX8D621K86_20191001_DBES.xml', 5155723), ('/home/genne/Downloads/output/RTS27_7LTWFZYICNSX8D621K86_20190916_DBES.xml', 5151814), ('/home/genne/Downloads/output/RTS27_7LTWFZYICNSX8D621K86_20190923_DBES.xml', 5132013), ('/home/genne/Downloads/output/RTS27_7LTWFZYICNSX8D621K86_20191004_DBES.xml', 5080118), ('/home/genne/Downloads/output/RTS27_7LTWFZYICNSX8D621K86_20191115_DBES.xml', 5079392), ('/home/genne/Downloads/output/RTS27_7LTWFZYICNSX8D621K86_20191014_DBES.xml', 5078366), ('/home/genne/Downloads/output/RTS27_7LTWFZYICNSX8D621K86_20191016_DBES.xml', 5071738), ('/home/genne/Downloads/output/RTS27_7LTWFZYICNSX8D621K86_20190926_DBES.xml', 5056803), ('/home/genne/Downloads/output/RTS27_7LTWFZYICNSX8D621K86_20191212_DBES.xml', 5049924), ('/home/genne/Downloads/output/RTS27_7LTWFZYICNSX8D621K86_20191021_DBES.xml', 5028353), ('/home/genne/Downloads/output/RTS27_7LTWFZYICNSX8D621K86_20191112_DBES.xml', 5025214), ('/home/genne/Downloads/output/RTS27_7LTWFZYICNSX8D621K86_20190924_DBES.xml', 5006475), ('/home/genne/Downloads/output/RTS27_7LTWFZYICNSX8D621K86_20191023_DBES.xml', 5005821), ('/home/genne/Downloads/output/RTS27_7LTWFZYICNSX8D621K86_20191105_DBES.xml', 4999054), ('/home/genne/Downloads/output/RTS27_7LTWFZYICNSX8D621K86_20190920_DBES.xml', 4980651), ('/home/genne/Downloads/output/RTS27_7LTWFZYICNSX8D621K86_20191008_DBES.xml', 4976716), ('/home/genne/Downloads/output/RTS27_7LTWFZYICNSX8D621K86_20191024_DBES.xml', 4958756), ('/home/genne/Downloads/output/RTS27_7LTWFZYICNSX8D621K86_20191121_DBES.xml', 4951742), ('/home/genne/Downloads/output/RTS27_7LTWFZYICNSX8D621K86_20190830_DBES.xml', 4945746), ('/home/genne/Downloads/output/RTS27_7LTWFZYICNSX8D621K86_20191213_DBES.xml', 4906906), ('/home/genne/Downloads/output/RTS27_7LTWFZYICNSX8D621K86_20181224_DBES.xml', 4900870), ('/home/genne/Downloads/output/RTS27_7LTWFZYICNSX8D621K86_20191025_DBES.xml', 4893463), ('/home/genne/Downloads/output/RTS27_7LTWFZYICNSX8D621K86_20191009_DBES.xml', 4857423), ('/home/genne/Downloads/output/RTS27_7LTWFZYICNSX8D621K86_20191022_DBES.xml', 4853668), ('/home/genne/Downloads/output/RTS27_7LTWFZYICNSX8D621K86_20191010_DBES.xml', 4844149), ('/home/genne/Downloads/output/RTS27_7LTWFZYICNSX8D621K86_20191104_DBES.xml', 4843198), ('/home/genne/Downloads/output/RTS27_7LTWFZYICNSX8D621K86_20191101_DBES.xml', 4834282), ('/home/genne/Downloads/output/RTS27_7LTWFZYICNSX8D621K86_20181231_DBES.xml', 4819276), ('/home/genne/Downloads/output/RTS27_7LTWFZYICNSX8D621K86_20191106_DBES.xml', 4799596), ('/home/genne/Downloads/output/RTS27_7LTWFZYICNSX8D621K86_20191030_DBES.xml', 4789157), ('/home/genne/Downloads/output/RTS27_7LTWFZYICNSX8D621K86_20191114_DBES.xml', 4712690), ('/home/genne/Downloads/output/RTS27_7LTWFZYICNSX8D621K86_20190902_DBES.xml', 4703078), ('/home/genne/Downloads/output/RTS27_7LTWFZYICNSX8D621K86_20190826_DBES.xml', 4661034), ('/home/genne/Downloads/output/RTS27_7LTWFZYICNSX8D621K86_20191119_DBES.xml', 4632890), ('/home/genne/Downloads/output/RTS27_7LTWFZYICNSX8D621K86_20191029_DBES.xml', 4602908), ('/home/genne/Downloads/output/RTS27_7LTWFZYICNSX8D621K86_20191118_DBES.xml', 4575693), ('/home/genne/Downloads/output/RTS27_7LTWFZYICNSX8D621K86_20191120_DBES.xml', 4571365), ('/home/genne/Downloads/output/RTS27_7LTWFZYICNSX8D621K86_20191210_DBES.xml', 4565854), ('/home/genne/Downloads/output/RTS27_7LTWFZYICNSX8D621K86_20191007_DBES.xml', 4561064), ('/home/genne/Downloads/output/RTS27_7LTWFZYICNSX8D621K86_20191219_DBES.xml', 4411618), ('/home/genne/Downloads/output/RTS27_7LTWFZYICNSX8D621K86_20191127_DBES.xml', 4371060), ('/home/genne/Downloads/output/RTS27_7LTWFZYICNSX8D621K86_20191126_DBES.xml', 4274509), ('/home/genne/Downloads/output/RTS27_7LTWFZYICNSX8D621K86_20191218_DBES.xml', 4222178), ('/home/genne/Downloads/output/RTS27_7LTWFZYICNSX8D621K86_20191220_DBES.xml', 4217944), ('/home/genne/Downloads/output/RTS27_7LTWFZYICNSX8D621K86_20191217_DBES.xml', 4160818), ('/home/genne/Downloads/output/RTS27_7LTWFZYICNSX8D621K86_20190501_DBES.xml', 4149766), ('/home/genne/Downloads/output/RTS27_7LTWFZYICNSX8D621K86_20191202_DBES.xml', 4147547), ('/home/genne/Downloads/output/RTS27_7LTWFZYICNSX8D621K86_20191129_DBES.xml', 4075735), ('/home/genne/Downloads/output/RTS27_7LTWFZYICNSX8D621K86_20191122_DBES.xml', 4058225), ('/home/genne/Downloads/output/RTS27_7LTWFZYICNSX8D621K86_20191111_DBES.xml', 4040960), ('/home/genne/Downloads/output/RTS27_7LTWFZYICNSX8D621K86_20191125_DBES.xml', 4018386), ('/home/genne/Downloads/output/RTS27_7LTWFZYICNSX8D621K86_20191216_DBES.xml', 3955926), ('/home/genne/Downloads/output/RTS27_7LTWFZYICNSX8D621K86_20191203_DBES.xml', 3949379), ('/home/genne/Downloads/output/RTS27_7LTWFZYICNSX8D621K86_20191211_DBES.xml', 3884195), ('/home/genne/Downloads/output/RTS27_7LTWFZYICNSX8D621K86_20191209_DBES.xml', 3692786), ('/home/genne/Downloads/output/RTS27_7LTWFZYICNSX8D621K86_20191003_DBES.xml', 3673375), ('/home/genne/Downloads/output/RTS27_7LTWFZYICNSX8D621K86_20180402_DBES.xml', 3585186), ('/home/genne/Downloads/output/RTS27_7LTWFZYICNSX8D621K86_20191223_DBES.xml', 3559671), ('/home/genne/Downloads/output/RTS27_7LTWFZYICNSX8D621K86_20191128_DBES.xml', 3521633), ('/home/genne/Downloads/output/RTS27_7LTWFZYICNSX8D621K86_20191204_DBES.xml', 3469035), ('/home/genne/Downloads/output/RTS27_7LTWFZYICNSX8D621K86_20191227_DBES.xml', 3426031), ('/home/genne/Downloads/output/RTS27_7LTWFZYICNSX8D621K86_20191205_DBES.xml', 3370076), ('/home/genne/Downloads/output/RTS27_7LTWFZYICNSX8D621K86_20191206_DBES.xml', 3301581), ('/home/genne/Downloads/output/RTS27_7LTWFZYICNSX8D621K86_20191230_DBES.xml', 3105918), ('/home/genne/Downloads/output/RTS27_7LTWFZYICNSX8D621K86_20180330_DBES.xml', 2945786), ('/home/genne/Downloads/output/RTS27_7LTWFZYICNSX8D621K86_20181226_DBES.xml', 2334324), ('/home/genne/Downloads/output/RTS27_7LTWFZYICNSX8D621K86_20181230_DBES.xml', 1796940), ('/home/genne/Downloads/output/RTS27_7LTWFZYICNSX8D621K86_20190106_DBES.xml', 1787327), ('/home/genne/Downloads/output/RTS27_7LTWFZYICNSX8D621K86_20181229_DBES.xml', 1785595), ('/home/genne/Downloads/output/RTS27_7LTWFZYICNSX8D621K86_20190101_DBES.xml', 1779259), ('/home/genne/Downloads/output/RTS27_7LTWFZYICNSX8D621K86_20190105_DBES.xml', 1777847), ('/home/genne/Downloads/output/RTS27_7LTWFZYICNSX8D621K86_20190203_DBES.xml', 1760138), ('/home/genne/Downloads/output/RTS27_7LTWFZYICNSX8D621K86_20181225_DBES.xml', 1756584), ('/home/genne/Downloads/output/RTS27_7LTWFZYICNSX8D621K86_20181216_DBES.xml', 1756035), ('/home/genne/Downloads/output/RTS27_7LTWFZYICNSX8D621K86_20190113_DBES.xml', 1753808), ('/home/genne/Downloads/output/RTS27_7LTWFZYICNSX8D621K86_20181223_DBES.xml', 1738894), ('/home/genne/Downloads/output/RTS27_7LTWFZYICNSX8D621K86_20190120_DBES.xml', 1718324), ('/home/genne/Downloads/output/RTS27_7LTWFZYICNSX8D621K86_20190303_DBES.xml', 1711836), ('/home/genne/Downloads/output/RTS27_7LTWFZYICNSX8D621K86_20190422_DBES.xml', 1707435), ('/home/genne/Downloads/output/RTS27_7LTWFZYICNSX8D621K86_20180120_DBES.xml', 1699443), ('/home/genne/Downloads/output/RTS27_7LTWFZYICNSX8D621K86_20190310_DBES.xml', 1692624), ('/home/genne/Downloads/output/RTS27_7LTWFZYICNSX8D621K86_20180415_DBES.xml', 1681629), ('/home/genne/Downloads/output/RTS27_7LTWFZYICNSX8D621K86_20190317_DBES.xml', 1681236), ('/home/genne/Downloads/output/RTS27_7LTWFZYICNSX8D621K86_20190210_DBES.xml', 1681176), ('/home/genne/Downloads/output/RTS27_7LTWFZYICNSX8D621K86_20180407_DBES.xml', 1664791), ('/home/genne/Downloads/output/RTS27_7LTWFZYICNSX8D621K86_20180512_DBES.xml', 1653542), ('/home/genne/Downloads/output/RTS27_7LTWFZYICNSX8D621K86_20180520_DBES.xml', 1653525), ('/home/genne/Downloads/output/RTS27_7LTWFZYICNSX8D621K86_20180506_DBES.xml', 1632412), ('/home/genne/Downloads/output/RTS27_7LTWFZYICNSX8D621K86_20180505_DBES.xml', 1629237), ('/home/genne/Downloads/output/RTS27_7LTWFZYICNSX8D621K86_20180930_DBES.xml', 1625065), ('/home/genne/Downloads/output/RTS27_7LTWFZYICNSX8D621K86_20180603_DBES.xml', 1624730), ('/home/genne/Downloads/output/RTS27_7LTWFZYICNSX8D621K86_20181202_DBES.xml', 1623625), ('/home/genne/Downloads/output/RTS27_7LTWFZYICNSX8D621K86_20180225_DBES.xml', 1623068), ('/home/genne/Downloads/output/RTS27_7LTWFZYICNSX8D621K86_20180318_DBES.xml', 1621013), ('/home/genne/Downloads/output/RTS27_7LTWFZYICNSX8D621K86_20180422_DBES.xml', 1620244), ('/home/genne/Downloads/output/RTS27_7LTWFZYICNSX8D621K86_20180304_DBES.xml', 1617022), ('/home/genne/Downloads/output/RTS27_7LTWFZYICNSX8D621K86_20180303_DBES.xml', 1614676), ('/home/genne/Downloads/output/RTS27_7LTWFZYICNSX8D621K86_20181125_DBES.xml', 1614393), ('/home/genne/Downloads/output/RTS27_7LTWFZYICNSX8D621K86_20180908_DBES.xml', 1613271), ('/home/genne/Downloads/output/RTS27_7LTWFZYICNSX8D621K86_20180610_DBES.xml', 1611160), ('/home/genne/Downloads/output/RTS27_7LTWFZYICNSX8D621K86_20180204_DBES.xml', 1607611), ('/home/genne/Downloads/output/RTS27_7LTWFZYICNSX8D621K86_20180310_DBES.xml', 1604899), ('/home/genne/Downloads/output/RTS27_7LTWFZYICNSX8D621K86_20180203_DBES.xml', 1604579), ('/home/genne/Downloads/output/RTS27_7LTWFZYICNSX8D621K86_20180826_DBES.xml', 1603717), ('/home/genne/Downloads/output/RTS27_7LTWFZYICNSX8D621K86_20180527_DBES.xml', 1601697), ('/home/genne/Downloads/output/RTS27_7LTWFZYICNSX8D621K86_20180609_DBES.xml', 1601387), ('/home/genne/Downloads/output/RTS27_7LTWFZYICNSX8D621K86_20180107_DBES.xml', 1601051), ('/home/genne/Downloads/output/RTS27_7LTWFZYICNSX8D621K86_20180825_DBES.xml', 1601006), ('/home/genne/Downloads/output/RTS27_7LTWFZYICNSX8D621K86_20181007_DBES.xml', 1599633), ('/home/genne/Downloads/output/RTS27_7LTWFZYICNSX8D621K86_20180127_DBES.xml', 1598718), ('/home/genne/Downloads/output/RTS27_7LTWFZYICNSX8D621K86_20181006_DBES.xml', 1598637), ('/home/genne/Downloads/output/RTS27_7LTWFZYICNSX8D621K86_20180624_DBES.xml', 1597823), ('/home/genne/Downloads/output/RTS27_7LTWFZYICNSX8D621K86_20180211_DBES.xml', 1597225), ('/home/genne/Downloads/output/RTS27_7LTWFZYICNSX8D621K86_20180325_DBES.xml', 1596304), ('/home/genne/Downloads/output/RTS27_7LTWFZYICNSX8D621K86_20180708_DBES.xml', 1591948), ('/home/genne/Downloads/output/RTS27_7LTWFZYICNSX8D621K86_20181021_DBES.xml', 1590798), ('/home/genne/Downloads/output/RTS27_7LTWFZYICNSX8D621K86_20180915_DBES.xml', 1588438), ('/home/genne/Downloads/output/RTS27_7LTWFZYICNSX8D621K86_20180218_DBES.xml', 1585788), ('/home/genne/Downloads/output/RTS27_7LTWFZYICNSX8D621K86_20190217_DBES.xml', 1585460), ('/home/genne/Downloads/output/RTS27_7LTWFZYICNSX8D621K86_20181104_DBES.xml', 1585274), ('/home/genne/Downloads/output/RTS27_7LTWFZYICNSX8D621K86_20181013_DBES.xml', 1585076), ('/home/genne/Downloads/output/RTS27_7LTWFZYICNSX8D621K86_20180210_DBES.xml', 1584569), ('/home/genne/Downloads/output/RTS27_7LTWFZYICNSX8D621K86_20180923_DBES.xml', 1583461), ('/home/genne/Downloads/output/RTS27_7LTWFZYICNSX8D621K86_20180114_DBES.xml', 1579231), ('/home/genne/Downloads/output/RTS27_7LTWFZYICNSX8D621K86_20180729_DBES.xml', 1577956), ('/home/genne/Downloads/output/RTS27_7LTWFZYICNSX8D621K86_20181118_DBES.xml', 1576512), ('/home/genne/Downloads/output/RTS27_7LTWFZYICNSX8D621K86_20180805_DBES.xml', 1576114), ('/home/genne/Downloads/output/RTS27_7LTWFZYICNSX8D621K86_20180121_DBES.xml', 1574041), ('/home/genne/Downloads/output/RTS27_7LTWFZYICNSX8D621K86_20180722_DBES.xml', 1571187), ('/home/genne/Downloads/output/RTS27_7LTWFZYICNSX8D621K86_20191231_DBES.xml', 1564739), ('/home/genne/Downloads/output/RTS27_7LTWFZYICNSX8D621K86_20180819_DBES.xml', 1561251), ('/home/genne/Downloads/output/RTS27_7LTWFZYICNSX8D621K86_20180818_DBES.xml', 1560659), ('/home/genne/Downloads/output/RTS27_7LTWFZYICNSX8D621K86_20190419_DBES.xml', 1535046), ('/home/genne/Downloads/output/RTS27_7LTWFZYICNSX8D621K86_20180101_DBES.xml', 1387293), ('/home/genne/Downloads/output/RTS27_7LTWFZYICNSX8D621K86_20191224_DBES.xml', 1347170), ('/home/genne/Downloads/output/RTS27_7LTWFZYICNSX8D621K86_20190526_DBES.xml', 1279955), ('/home/genne/Downloads/output/RTS27_7LTWFZYICNSX8D621K86_20190602_DBES.xml', 1275959), ('/home/genne/Downloads/output/RTS27_7LTWFZYICNSX8D621K86_20180531_DBMO.xml', 1193430), ('/home/genne/Downloads/output/RTS27_7LTWFZYICNSX8D621K86_20190630_DBES.xml', 1098067), ('/home/genne/Downloads/output/RTS27_7LTWFZYICNSX8D621K86_20190629_DBES.xml', 1090594), ('/home/genne/Downloads/output/RTS27_7LTWFZYICNSX8D621K86_20190707_DBES.xml', 1040421), ('/home/genne/Downloads/output/RTS27_7LTWFZYICNSX8D621K86_20190616_DBES.xml', 1009980), ('/home/genne/Downloads/output/RTS27_7LTWFZYICNSX8D621K86_20190609_DBES.xml', 994670), ('/home/genne/Downloads/output/RTS27_7LTWFZYICNSX8D621K86_20190714_DBES.xml', 960219), ('/home/genne/Downloads/output/RTS27_7LTWFZYICNSX8D621K86_20180509_DBMO.xml', 496018), ('/home/genne/Downloads/output/RTS27_7LTWFZYICNSX8D621K86_20180331_DBES.xml', 493359), ('/home/genne/Downloads/output/RTS27_7LTWFZYICNSX8D621K86_20180921_DBMO.xml', 460545), ('/home/genne/Downloads/output/RTS27_7LTWFZYICNSX8D621K86_20190222_DBMO.xml', 365634), ('/home/genne/Downloads/output/RTS27_7LTWFZYICNSX8D621K86_20180228_DBMO.xml', 365392), ('/home/genne/Downloads/output/RTS27_7LTWFZYICNSX8D621K86_20180214_DBMO.xml', 358351), ('/home/genne/Downloads/output/RTS27_7LTWFZYICNSX8D621K86_20180306_DBMO.xml', 345174), ('/home/genne/Downloads/output/RTS27_7LTWFZYICNSX8D621K86_20190621_DBMO.xml', 344552), ('/home/genne/Downloads/output/RTS27_7LTWFZYICNSX8D621K86_20180321_DBMO.xml', 330361), ('/home/genne/Downloads/output/RTS27_7LTWFZYICNSX8D621K86_20180205_DBMO.xml', 326209), ('/home/genne/Downloads/output/RTS27_7LTWFZYICNSX8D621K86_20180320_DBMO.xml', 325896), ('/home/genne/Downloads/output/RTS27_7LTWFZYICNSX8D621K86_20191226_DBES.xml', 313910), ('/home/genne/Downloads/output/RTS27_7LTWFZYICNSX8D621K86_20190226_DBMO.xml', 311186), ('/home/genne/Downloads/output/RTS27_7LTWFZYICNSX8D621K86_20180221_DBMO.xml', 295930), ('/home/genne/Downloads/output/RTS27_7LTWFZYICNSX8D621K86_20190312_DBMO.xml', 286195), ('/home/genne/Downloads/output/RTS27_7LTWFZYICNSX8D621K86_20180706_DBMO.xml', 281641), ('/home/genne/Downloads/output/RTS27_7LTWFZYICNSX8D621K86_20190409_DBMO.xml', 279822), ('/home/genne/Downloads/output/RTS27_7LTWFZYICNSX8D621K86_20180326_DBMO.xml', 279486), ('/home/genne/Downloads/output/RTS27_7LTWFZYICNSX8D621K86_20190613_DBMO.xml', 272671), ('/home/genne/Downloads/output/RTS27_7LTWFZYICNSX8D621K86_20190605_DBMO.xml', 263680), ('/home/genne/Downloads/output/RTS27_7LTWFZYICNSX8D621K86_20190528_DBMO.xml', 261914), ('/home/genne/Downloads/output/RTS27_7LTWFZYICNSX8D621K86_20190227_DBMO.xml', 261700), ('/home/genne/Downloads/output/RTS27_7LTWFZYICNSX8D621K86_20190301_DBMO.xml', 258190), ('/home/genne/Downloads/output/RTS27_7LTWFZYICNSX8D621K86_20180202_DBMO.xml', 258081), ('/home/genne/Downloads/output/RTS27_7LTWFZYICNSX8D621K86_20181130_DBMO.xml', 257399), ('/home/genne/Downloads/output/RTS27_7LTWFZYICNSX8D621K86_20180312_DBMO.xml', 255763), ('/home/genne/Downloads/output/RTS27_7LTWFZYICNSX8D621K86_20190521_DBMO.xml', 245346), ('/home/genne/Downloads/output/RTS27_7LTWFZYICNSX8D621K86_20190416_DBMO.xml', 245270), ('/home/genne/Downloads/output/RTS27_7LTWFZYICNSX8D621K86_20190514_DBMO.xml', 244885), ('/home/genne/Downloads/output/RTS27_7LTWFZYICNSX8D621K86_20190614_DBMO.xml', 243731), ('/home/genne/Downloads/output/RTS27_7LTWFZYICNSX8D621K86_20180207_DBMO.xml', 243664), ('/home/genne/Downloads/output/RTS27_7LTWFZYICNSX8D621K86_20190424_DBMO.xml', 241037), ('/home/genne/Downloads/output/RTS27_7LTWFZYICNSX8D621K86_20190804_DBES.xml', 240487), ('/home/genne/Downloads/output/RTS27_7LTWFZYICNSX8D621K86_20190410_DBMO.xml', 236503), ('/home/genne/Downloads/output/RTS27_7LTWFZYICNSX8D621K86_20190402_DBMO.xml', 233132), ('/home/genne/Downloads/output/RTS27_7LTWFZYICNSX8D621K86_20190523_DBMO.xml', 230263), ('/home/genne/Downloads/output/RTS27_7LTWFZYICNSX8D621K86_20190728_DBES.xml', 227530), ('/home/genne/Downloads/output/RTS27_7LTWFZYICNSX8D621K86_20180212_DBMO.xml', 226254), ('/home/genne/Downloads/output/RTS27_7LTWFZYICNSX8D621K86_20190307_DBMO.xml', 225243), ('/home/genne/Downloads/output/RTS27_7LTWFZYICNSX8D621K86_20190123_DBMO.xml', 223204), ('/home/genne/Downloads/output/RTS27_7LTWFZYICNSX8D621K86_20190531_DBMO.xml', 222650), ('/home/genne/Downloads/output/RTS27_7LTWFZYICNSX8D621K86_20190516_DBMO.xml', 222141), ('/home/genne/Downloads/output/RTS27_7LTWFZYICNSX8D621K86_20190624_DBMO.xml', 220921), ('/home/genne/Downloads/output/RTS27_7LTWFZYICNSX8D621K86_20190818_DBES.xml', 220073), ('/home/genne/Downloads/output/RTS27_7LTWFZYICNSX8D621K86_20190326_DBMO.xml', 217288), ('/home/genne/Downloads/output/RTS27_7LTWFZYICNSX8D621K86_20190306_DBMO.xml', 216544), ('/home/genne/Downloads/output/RTS27_7LTWFZYICNSX8D621K86_20190321_DBMO.xml', 214204), ('/home/genne/Downloads/output/RTS27_7LTWFZYICNSX8D621K86_20190208_DBMO.xml', 213968), ('/home/genne/Downloads/output/RTS27_7LTWFZYICNSX8D621K86_20190313_DBMO.xml', 212268), ('/home/genne/Downloads/output/RTS27_7LTWFZYICNSX8D621K86_20190412_DBMO.xml', 211302), ('/home/genne/Downloads/output/RTS27_7LTWFZYICNSX8D621K86_20180807_DBMO.xml', 210127), ('/home/genne/Downloads/output/RTS27_7LTWFZYICNSX8D621K86_20190327_DBMO.xml', 209822), ('/home/genne/Downloads/output/RTS27_7LTWFZYICNSX8D621K86_20190418_DBMO.xml', 208858), ('/home/genne/Downloads/output/RTS27_7LTWFZYICNSX8D621K86_20190626_DBMO.xml', 208510), ('/home/genne/Downloads/output/RTS27_7LTWFZYICNSX8D621K86_20190103_DBMO.xml', 207588), ('/home/genne/Downloads/output/RTS27_7LTWFZYICNSX8D621K86_20190507_DBMO.xml', 207429), ('/home/genne/Downloads/output/RTS27_7LTWFZYICNSX8D621K86_20190207_DBMO.xml', 206292), ('/home/genne/Downloads/output/RTS27_7LTWFZYICNSX8D621K86_20190405_DBMO.xml', 203644), ('/home/genne/Downloads/output/RTS27_7LTWFZYICNSX8D621K86_20180131_DBMO.xml', 203161), ('/home/genne/Downloads/output/RTS27_7LTWFZYICNSX8D621K86_20180928_DBMO.xml', 203109), ('/home/genne/Downloads/output/RTS27_7LTWFZYICNSX8D621K86_20180913_DBMO.xml', 202300), ('/home/genne/Downloads/output/RTS27_7LTWFZYICNSX8D621K86_20180425_DBMO.xml', 195560), ('/home/genne/Downloads/output/RTS27_7LTWFZYICNSX8D621K86_20180323_DBMO.xml', 193980), ('/home/genne/Downloads/output/RTS27_7LTWFZYICNSX8D621K86_20190220_DBMO.xml', 187594), ('/home/genne/Downloads/output/RTS27_7LTWFZYICNSX8D621K86_20190502_DBMO.xml', 183897), ('/home/genne/Downloads/output/RTS27_7LTWFZYICNSX8D621K86_20190107_DBMO.xml', 183839), ('/home/genne/Downloads/output/RTS27_7LTWFZYICNSX8D621K86_20190304_DBMO.xml', 182138), ('/home/genne/Downloads/output/RTS27_7LTWFZYICNSX8D621K86_20190517_DBMO.xml', 181653), ('/home/genne/Downloads/output/RTS27_7LTWFZYICNSX8D621K86_20180110_DBMO.xml', 180988), ('/home/genne/Downloads/output/RTS27_7LTWFZYICNSX8D621K86_20180126_DBMO.xml', 178839), ('/home/genne/Downloads/output/RTS27_7LTWFZYICNSX8D621K86_20190219_DBMO.xml', 173999), ('/home/genne/Downloads/output/RTS27_7LTWFZYICNSX8D621K86_20190603_DBMO.xml', 171057), ('/home/genne/Downloads/output/RTS27_7LTWFZYICNSX8D621K86_20190318_DBMO.xml', 170448), ('/home/genne/Downloads/output/RTS27_7LTWFZYICNSX8D621K86_20180705_DBMO.xml', 164401), ('/home/genne/Downloads/output/RTS27_7LTWFZYICNSX8D621K86_20180613_DBMO.xml', 162109), ('/home/genne/Downloads/output/RTS27_7LTWFZYICNSX8D621K86_20180129_DBMO.xml', 159483), ('/home/genne/Downloads/output/RTS27_7LTWFZYICNSX8D621K86_20190401_DBMO.xml', 157187), ('/home/genne/Downloads/output/RTS27_7LTWFZYICNSX8D621K86_20180316_DBMO.xml', 156418), ('/home/genne/Downloads/output/RTS27_7LTWFZYICNSX8D621K86_20181221_DBMO.xml', 154423), ('/home/genne/Downloads/output/RTS27_7LTWFZYICNSX8D621K86_20180315_DBMO.xml', 152281), ('/home/genne/Downloads/output/RTS27_7LTWFZYICNSX8D621K86_20181011_DBMO.xml', 146517), ('/home/genne/Downloads/output/RTS27_7LTWFZYICNSX8D621K86_20180523_DBMO.xml', 145461), ('/home/genne/Downloads/output/RTS27_7LTWFZYICNSX8D621K86_20180501_DBMO.xml', 145138), ('/home/genne/Downloads/output/RTS27_7LTWFZYICNSX8D621K86_20181031_DBMO.xml', 141786), ('/home/genne/Downloads/output/RTS27_7LTWFZYICNSX8D621K86_20180629_DBMO.xml', 141252), ('/home/genne/Downloads/output/RTS27_7LTWFZYICNSX8D621K86_20190319_DBMO.xml', 135054), ('/home/genne/Downloads/output/RTS27_7LTWFZYICNSX8D621K86_20181217_DBMO.xml', 134385), ('/home/genne/Downloads/output/RTS27_7LTWFZYICNSX8D621K86_20180809_DBMO.xml', 133807), ('/home/genne/Downloads/output/RTS27_7LTWFZYICNSX8D621K86_20181002_DBMO.xml', 133451), ('/home/genne/Downloads/output/RTS27_7LTWFZYICNSX8D621K86_20181113_DBMO.xml', 133258), ('/home/genne/Downloads/output/RTS27_7LTWFZYICNSX8D621K86_20181106_DBMO.xml', 132567), ('/home/genne/Downloads/output/RTS27_7LTWFZYICNSX8D621K86_20180227_DBMO.xml', 132475), ('/home/genne/Downloads/output/RTS27_7LTWFZYICNSX8D621K86_20180308_DBMO.xml', 131371), ('/home/genne/Downloads/output/RTS27_7LTWFZYICNSX8D621K86_20190425_DBMO.xml', 130868), ('/home/genne/Downloads/output/RTS27_7LTWFZYICNSX8D621K86_20190607_DBMO.xml', 129723), ('/home/genne/Downloads/output/RTS27_7LTWFZYICNSX8D621K86_20190109_DBMO.xml', 127363), ('/home/genne/Downloads/output/RTS27_7LTWFZYICNSX8D621K86_20190529_DBMO.xml', 127324), ('/home/genne/Downloads/output/RTS27_7LTWFZYICNSX8D621K86_20190508_DBMO.xml', 126548), ('/home/genne/Downloads/output/RTS27_7LTWFZYICNSX8D621K86_20190212_DBMO.xml', 124177), ('/home/genne/Downloads/output/RTS27_7LTWFZYICNSX8D621K86_20180927_DBMO.xml', 124129), ('/home/genne/Downloads/output/RTS27_7LTWFZYICNSX8D621K86_20180222_DBMO.xml', 122948), ('/home/genne/Downloads/output/RTS27_7LTWFZYICNSX8D621K86_20181128_DBMO.xml', 122506), ('/home/genne/Downloads/output/RTS27_7LTWFZYICNSX8D621K86_20190606_DBMO.xml', 122362), ('/home/genne/Downloads/output/RTS27_7LTWFZYICNSX8D621K86_20180702_DBMO.xml', 121049), ('/home/genne/Downloads/output/RTS27_7LTWFZYICNSX8D621K86_20190627_DBMO.xml', 120293), ('/home/genne/Downloads/output/RTS27_7LTWFZYICNSX8D621K86_20180124_DBMO.xml', 118313), ('/home/genne/Downloads/output/RTS27_7LTWFZYICNSX8D621K86_20190520_DBMO.xml', 118035), ('/home/genne/Downloads/output/RTS27_7LTWFZYICNSX8D621K86_20180216_DBMO.xml', 117884), ('/home/genne/Downloads/output/RTS27_7LTWFZYICNSX8D621K86_20180104_DBMO.xml', 116863), ('/home/genne/Downloads/output/RTS27_7LTWFZYICNSX8D621K86_20180122_DBMO.xml', 114487), ('/home/genne/Downloads/output/RTS27_7LTWFZYICNSX8D621K86_20180319_DBMO.xml', 113731), ('/home/genne/Downloads/output/RTS27_7LTWFZYICNSX8D621K86_20180109_DBMO.xml', 113704), ('/home/genne/Downloads/output/RTS27_7LTWFZYICNSX8D621K86_20190426_DBMO.xml', 113653), ('/home/genne/Downloads/output/RTS27_7LTWFZYICNSX8D621K86_20180301_DBMO.xml', 113354), ('/home/genne/Downloads/output/RTS27_7LTWFZYICNSX8D621K86_20180926_DBMO.xml', 113298), ('/home/genne/Downloads/output/RTS27_7LTWFZYICNSX8D621K86_20190510_DBMO.xml', 112599), ('/home/genne/Downloads/output/RTS27_7LTWFZYICNSX8D621K86_20181112_DBMO.xml', 112459), ('/home/genne/Downloads/output/RTS27_7LTWFZYICNSX8D621K86_20181214_DBMO.xml', 112098), ('/home/genne/Downloads/output/RTS27_7LTWFZYICNSX8D621K86_20190110_DBMO.xml', 111886), ('/home/genne/Downloads/output/RTS27_7LTWFZYICNSX8D621K86_20181101_DBMO.xml', 109298), ('/home/genne/Downloads/output/RTS27_7LTWFZYICNSX8D621K86_20180730_DBMO.xml', 109257), ('/home/genne/Downloads/output/RTS27_7LTWFZYICNSX8D621K86_20190612_DBMO.xml', 108659), ('/home/genne/Downloads/output/RTS27_7LTWFZYICNSX8D621K86_20190515_DBMO.xml', 107278), ('/home/genne/Downloads/output/RTS27_7LTWFZYICNSX8D621K86_20190618_DBMO.xml', 107235), ('/home/genne/Downloads/output/RTS27_7LTWFZYICNSX8D621K86_20190417_DBMO.xml', 107086), ('/home/genne/Downloads/output/RTS27_7LTWFZYICNSX8D621K86_20190228_DBMO.xml', 105913), ('/home/genne/Downloads/output/RTS27_7LTWFZYICNSX8D621K86_20181105_DBMO.xml', 105837), ('/home/genne/Downloads/output/RTS27_7LTWFZYICNSX8D621K86_20181029_DBMO.xml', 104708), ('/home/genne/Downloads/output/RTS27_7LTWFZYICNSX8D621K86_20181009_DBMO.xml', 103423), ('/home/genne/Downloads/output/RTS27_7LTWFZYICNSX8D621K86_20181109_DBMO.xml', 102788), ('/home/genne/Downloads/output/RTS27_7LTWFZYICNSX8D621K86_20181203_DBMO.xml', 100295), ('/home/genne/Downloads/output/RTS27_7LTWFZYICNSX8D621K86_20181204_DBMO.xml', 99691), ('/home/genne/Downloads/output/RTS27_7LTWFZYICNSX8D621K86_20190617_DBMO.xml', 99453), ('/home/genne/Downloads/output/RTS27_7LTWFZYICNSX8D621K86_20180213_DBMO.xml', 99083), ('/home/genne/Downloads/output/RTS27_7LTWFZYICNSX8D621K86_20190129_DBMO.xml', 98497), ('/home/genne/Downloads/output/RTS27_7LTWFZYICNSX8D621K86_20190315_DBMO.xml', 98457), ('/home/genne/Downloads/output/RTS27_7LTWFZYICNSX8D621K86_20190513_DBMO.xml', 98341), ('/home/genne/Downloads/output/RTS27_7LTWFZYICNSX8D621K86_20190522_DBMO.xml', 98323), ('/home/genne/Downloads/output/RTS27_7LTWFZYICNSX8D621K86_20180313_DBMO.xml', 97638), ('/home/genne/Downloads/output/RTS27_7LTWFZYICNSX8D621K86_20190619_DBMO.xml', 97546), ('/home/genne/Downloads/output/RTS27_7LTWFZYICNSX8D621K86_20181218_DBMO.xml', 97332), ('/home/genne/Downloads/output/RTS27_7LTWFZYICNSX8D621K86_20180713_DBMO.xml', 97249), ('/home/genne/Downloads/output/RTS27_7LTWFZYICNSX8D621K86_20190503_DBMO.xml', 96546), ('/home/genne/Downloads/output/RTS27_7LTWFZYICNSX8D621K86_20180327_DBMO.xml', 95890), ('/home/genne/Downloads/output/RTS27_7LTWFZYICNSX8D621K86_20190201_DBMO.xml', 95754), ('/home/genne/Downloads/output/RTS27_7LTWFZYICNSX8D621K86_20180511_DBMO.xml', 95747), ('/home/genne/Downloads/output/RTS27_7LTWFZYICNSX8D621K86_20181003_DBMO.xml', 94856), ('/home/genne/Downloads/output/RTS27_7LTWFZYICNSX8D621K86_20190524_DBMO.xml', 94800), ('/home/genne/Downloads/output/RTS27_7LTWFZYICNSX8D621K86_20190124_DBMO.xml', 94302), ('/home/genne/Downloads/output/RTS27_7LTWFZYICNSX8D621K86_20190628_DBMO.xml', 93957), ('/home/genne/Downloads/output/RTS27_7LTWFZYICNSX8D621K86_20190604_DBMO.xml', 93551), ('/home/genne/Downloads/output/RTS27_7LTWFZYICNSX8D621K86_20190204_DBMO.xml', 93477), ('/home/genne/Downloads/output/RTS27_7LTWFZYICNSX8D621K86_20180123_DBMO.xml', 93158), ('/home/genne/Downloads/output/RTS27_7LTWFZYICNSX8D621K86_20181019_DBMO.xml', 93013), ('/home/genne/Downloads/output/RTS27_7LTWFZYICNSX8D621K86_20181015_DBMO.xml', 92458), ('/home/genne/Downloads/output/RTS27_7LTWFZYICNSX8D621K86_20190102_DBMO.xml', 92356), ('/home/genne/Downloads/output/RTS27_7LTWFZYICNSX8D621K86_20190702_DBMO.xml', 90888), ('/home/genne/Downloads/output/RTS27_7LTWFZYICNSX8D621K86_20190117_DBMO.xml', 90825), ('/home/genne/Downloads/output/RTS27_7LTWFZYICNSX8D621K86_20181121_DBMO.xml', 90295), ('/home/genne/Downloads/output/RTS27_7LTWFZYICNSX8D621K86_20190206_DBMO.xml', 90093), ('/home/genne/Downloads/output/RTS27_7LTWFZYICNSX8D621K86_20181212_DBMO.xml', 89911), ('/home/genne/Downloads/output/RTS27_7LTWFZYICNSX8D621K86_20190423_DBMO.xml', 89688), ('/home/genne/Downloads/output/RTS27_7LTWFZYICNSX8D621K86_20181005_DBMO.xml', 89295), ('/home/genne/Downloads/output/RTS27_7LTWFZYICNSX8D621K86_20190116_DBMO.xml', 89251), ('/home/genne/Downloads/output/RTS27_7LTWFZYICNSX8D621K86_20181012_DBMO.xml', 88641), ('/home/genne/Downloads/output/RTS27_7LTWFZYICNSX8D621K86_20180510_DBMO.xml', 88512), ('/home/genne/Downloads/output/RTS27_7LTWFZYICNSX8D621K86_20180328_DBMO.xml', 88474), ('/home/genne/Downloads/output/RTS27_7LTWFZYICNSX8D621K86_20190705_DBMO.xml', 88060), ('/home/genne/Downloads/output/RTS27_7LTWFZYICNSX8D621K86_20190205_DBMO.xml', 87268), ('/home/genne/Downloads/output/RTS27_7LTWFZYICNSX8D621K86_20181017_DBMO.xml', 86659), ('/home/genne/Downloads/output/RTS27_7LTWFZYICNSX8D621K86_20190611_DBMO.xml', 86335), ('/home/genne/Downloads/output/RTS27_7LTWFZYICNSX8D621K86_20190314_DBMO.xml', 86252), ('/home/genne/Downloads/output/RTS27_7LTWFZYICNSX8D621K86_20181107_DBMO.xml', 85931), ('/home/genne/Downloads/output/RTS27_7LTWFZYICNSX8D621K86_20180917_DBMO.xml', 85841), ('/home/genne/Downloads/output/RTS27_7LTWFZYICNSX8D621K86_20181108_DBMO.xml', 85518), ('/home/genne/Downloads/output/RTS27_7LTWFZYICNSX8D621K86_20181126_DBMO.xml', 85469), ('/home/genne/Downloads/output/RTS27_7LTWFZYICNSX8D621K86_20180814_DBMO.xml', 85447), ('/home/genne/Downloads/output/RTS27_7LTWFZYICNSX8D621K86_20190403_DBMO.xml', 85216), ('/home/genne/Downloads/output/RTS27_7LTWFZYICNSX8D621K86_20181023_DBMO.xml', 84759), ('/home/genne/Downloads/output/RTS27_7LTWFZYICNSX8D621K86_20180810_DBMO.xml', 84288), ('/home/genne/Downloads/output/RTS27_7LTWFZYICNSX8D621K86_20190701_DBMO.xml', 84028), ('/home/genne/Downloads/output/RTS27_7LTWFZYICNSX8D621K86_20180525_DBMO.xml', 83905), ('/home/genne/Downloads/output/RTS27_7LTWFZYICNSX8D621K86_20181001_DBMO.xml', 83888), ('/home/genne/Downloads/output/RTS27_7LTWFZYICNSX8D621K86_20190320_DBMO.xml', 83528), ('/home/genne/Downloads/output/RTS27_7LTWFZYICNSX8D621K86_20181127_DBMO.xml', 83201), ('/home/genne/Downloads/output/RTS27_7LTWFZYICNSX8D621K86_20190415_DBMO.xml', 82533), ('/home/genne/Downloads/output/RTS27_7LTWFZYICNSX8D621K86_20181025_DBMO.xml', 81729), ('/home/genne/Downloads/output/RTS27_7LTWFZYICNSX8D621K86_20180517_DBMO.xml', 81465), ('/home/genne/Downloads/output/RTS27_7LTWFZYICNSX8D621K86_20190131_DBMO.xml', 81337), ('/home/genne/Downloads/output/RTS27_7LTWFZYICNSX8D621K86_20180112_DBMO.xml', 80371), ('/home/genne/Downloads/output/RTS27_7LTWFZYICNSX8D621K86_20190704_DBMO.xml', 80041), ('/home/genne/Downloads/output/RTS27_7LTWFZYICNSX8D621K86_20180910_DBMO.xml', 80035), ('/home/genne/Downloads/output/RTS27_7LTWFZYICNSX8D621K86_20180912_DBMO.xml', 80034), ('/home/genne/Downloads/output/RTS27_7LTWFZYICNSX8D621K86_20190625_DBMO.xml', 79710), ('/home/genne/Downloads/output/RTS27_7LTWFZYICNSX8D621K86_20180821_DBMO.xml', 79702), ('/home/genne/Downloads/output/RTS27_7LTWFZYICNSX8D621K86_20180907_DBMO.xml', 77726), ('/home/genne/Downloads/output/RTS27_7LTWFZYICNSX8D621K86_20181114_DBMO.xml', 77387), ('/home/genne/Downloads/output/RTS27_7LTWFZYICNSX8D621K86_20180831_DBMO.xml', 77153), ('/home/genne/Downloads/output/RTS27_7LTWFZYICNSX8D621K86_20180621_DBMO.xml', 77133), ('/home/genne/Downloads/output/RTS27_7LTWFZYICNSX8D621K86_20180712_DBMO.xml', 77059), ('/home/genne/Downloads/output/RTS27_7LTWFZYICNSX8D621K86_20190703_DBMO.xml', 76755), ('/home/genne/Downloads/output/RTS27_7LTWFZYICNSX8D621K86_20190213_DBMO.xml', 76559), ('/home/genne/Downloads/output/RTS27_7LTWFZYICNSX8D621K86_20190620_DBMO.xml', 75606), ('/home/genne/Downloads/output/RTS27_7LTWFZYICNSX8D621K86_20190125_DBMO.xml', 75181), ('/home/genne/Downloads/output/RTS27_7LTWFZYICNSX8D621K86_20190530_DBMO.xml', 74922), ('/home/genne/Downloads/output/RTS27_7LTWFZYICNSX8D621K86_20180503_DBMO.xml', 74795), ('/home/genne/Downloads/output/RTS27_7LTWFZYICNSX8D621K86_20190308_DBMO.xml', 74774), ('/home/genne/Downloads/output/RTS27_7LTWFZYICNSX8D621K86_20181010_DBMO.xml', 73270), ('/home/genne/Downloads/output/RTS27_7LTWFZYICNSX8D621K86_20180305_DBMO.xml', 72647), ('/home/genne/Downloads/output/RTS27_7LTWFZYICNSX8D621K86_20181018_DBMO.xml', 72019), ('/home/genne/Downloads/output/RTS27_7LTWFZYICNSX8D621K86_20180911_DBMO.xml', 71266), ('/home/genne/Downloads/output/RTS27_7LTWFZYICNSX8D621K86_20181219_DBMO.xml', 71131), ('/home/genne/Downloads/output/RTS27_7LTWFZYICNSX8D621K86_20180314_DBMO.xml', 70482), ('/home/genne/Downloads/output/RTS27_7LTWFZYICNSX8D621K86_20180918_DBMO.xml', 70047), ('/home/genne/Downloads/output/RTS27_7LTWFZYICNSX8D621K86_20180405_DBMO.xml', 70043), ('/home/genne/Downloads/output/RTS27_7LTWFZYICNSX8D621K86_20180502_DBMO.xml', 69830), ('/home/genne/Downloads/output/RTS27_7LTWFZYICNSX8D621K86_20190610_DBMO.xml', 69380), ('/home/genne/Downloads/output/RTS27_7LTWFZYICNSX8D621K86_20180925_DBMO.xml', 69237), ('/home/genne/Downloads/output/RTS27_7LTWFZYICNSX8D621K86_20181209_DBES.xml', 69005), ('/home/genne/Downloads/output/RTS27_7LTWFZYICNSX8D621K86_20180615_DBMO.xml', 68585), ('/home/genne/Downloads/output/RTS27_7LTWFZYICNSX8D621K86_20180427_DBMO.xml', 68228), ('/home/genne/Downloads/output/RTS27_7LTWFZYICNSX8D621K86_20180906_DBMO.xml', 67071), ('/home/genne/Downloads/output/RTS27_7LTWFZYICNSX8D621K86_20181211_DBMO.xml', 66704), ('/home/genne/Downloads/output/RTS27_7LTWFZYICNSX8D621K86_20190305_DBMO.xml', 64384), ('/home/genne/Downloads/output/RTS27_7LTWFZYICNSX8D621K86_20190130_DBMO.xml', 64241), ('/home/genne/Downloads/output/RTS27_7LTWFZYICNSX8D621K86_20180408_DBES.xml', 63411), ('/home/genne/Downloads/output/RTS27_7LTWFZYICNSX8D621K86_20180622_DBMO.xml', 63097), ('/home/genne/Downloads/output/RTS27_7LTWFZYICNSX8D621K86_20180201_DBMO.xml', 62973), ('/home/genne/Downloads/output/RTS27_7LTWFZYICNSX8D621K86_20180522_DBMO.xml', 62870), ('/home/genne/Downloads/output/RTS27_7LTWFZYICNSX8D621K86_20190411_DBMO.xml', 61433), ('/home/genne/Downloads/output/RTS27_7LTWFZYICNSX8D621K86_20181228_DBMO.xml', 60934), ('/home/genne/Downloads/output/RTS27_7LTWFZYICNSX8D621K86_20180504_DBMO.xml', 60728), ('/home/genne/Downloads/output/RTS27_7LTWFZYICNSX8D621K86_20180411_DBMO.xml', 60022), ('/home/genne/Downloads/output/RTS27_7LTWFZYICNSX8D621K86_20180426_DBMO.xml', 59995), ('/home/genne/Downloads/output/RTS27_7LTWFZYICNSX8D621K86_20190322_DBMO.xml', 59483), ('/home/genne/Downloads/output/RTS27_7LTWFZYICNSX8D621K86_20180902_DBES.xml', 58826), ('/home/genne/Downloads/output/RTS27_7LTWFZYICNSX8D621K86_20180701_DBES.xml', 58512), ('/home/genne/Downloads/output/RTS27_7LTWFZYICNSX8D621K86_20180529_DBMO.xml', 57925), ('/home/genne/Downloads/output/RTS27_7LTWFZYICNSX8D621K86_20190329_DBMO.xml', 57192), ('/home/genne/Downloads/output/RTS27_7LTWFZYICNSX8D621K86_20190118_DBMO.xml', 57183), ('/home/genne/Downloads/output/RTS27_7LTWFZYICNSX8D621K86_20180806_DBMO.xml', 56729), ('/home/genne/Downloads/output/RTS27_7LTWFZYICNSX8D621K86_20181102_DBMO.xml', 55857), ('/home/genne/Downloads/output/RTS27_7LTWFZYICNSX8D621K86_20180919_DBMO.xml', 55764), ('/home/genne/Downloads/output/RTS27_7LTWFZYICNSX8D621K86_20180904_DBMO.xml', 55650), ('/home/genne/Downloads/output/RTS27_7LTWFZYICNSX8D621K86_20180118_DBMO.xml', 55537), ('/home/genne/Downloads/output/RTS27_7LTWFZYICNSX8D621K86_20180513_DBES.xml', 55489), ('/home/genne/Downloads/output/RTS27_7LTWFZYICNSX8D621K86_20181022_DBMO.xml', 55044), ('/home/genne/Downloads/output/RTS27_7LTWFZYICNSX8D621K86_20190221_DBMO.xml', 55034), ('/home/genne/Downloads/output/RTS27_7LTWFZYICNSX8D621K86_20180909_DBES.xml', 54370), ('/home/genne/Downloads/output/RTS27_7LTWFZYICNSX8D621K86_20190122_DBMO.xml', 54310), ('/home/genne/Downloads/output/RTS27_7LTWFZYICNSX8D621K86_20180914_DBMO.xml', 54142), ('/home/genne/Downloads/output/RTS27_7LTWFZYICNSX8D621K86_20180413_DBMO.xml', 54063), ('/home/genne/Downloads/output/RTS27_7LTWFZYICNSX8D621K86_20190215_DBMO.xml', 53980), ('/home/genne/Downloads/output/RTS27_7LTWFZYICNSX8D621K86_20180816_DBMO.xml', 53882), ('/home/genne/Downloads/output/RTS27_7LTWFZYICNSX8D621K86_20180829_DBMO.xml', 53062), ('/home/genne/Downloads/output/RTS27_7LTWFZYICNSX8D621K86_20190114_DBMO.xml', 52880), ('/home/genne/Downloads/output/RTS27_7LTWFZYICNSX8D621K86_20190224_DBES.xml', 52614), ('/home/genne/Downloads/output/RTS27_7LTWFZYICNSX8D621K86_20180812_DBES.xml', 52459), ('/home/genne/Downloads/output/RTS27_7LTWFZYICNSX8D621K86_20180302_DBMO.xml', 52221), ('/home/genne/Downloads/output/RTS27_7LTWFZYICNSX8D621K86_20180920_DBMO.xml', 51864), ('/home/genne/Downloads/output/RTS27_7LTWFZYICNSX8D621K86_20190214_DBMO.xml', 51450), ('/home/genne/Downloads/output/RTS27_7LTWFZYICNSX8D621K86_20180111_DBMO.xml', 51327), ('/home/genne/Downloads/output/RTS27_7LTWFZYICNSX8D621K86_20181111_DBES.xml', 51233), ('/home/genne/Downloads/output/RTS27_7LTWFZYICNSX8D621K86_20190127_DBES.xml', 50904), ('/home/genne/Downloads/output/RTS27_7LTWFZYICNSX8D621K86_20181008_DBMO.xml', 50788), ('/home/genne/Downloads/output/RTS27_7LTWFZYICNSX8D621K86_20181004_DBMO.xml', 50732), ('/home/genne/Downloads/output/RTS27_7LTWFZYICNSX8D621K86_20180824_DBMO.xml', 50509), ('/home/genne/Downloads/output/RTS27_7LTWFZYICNSX8D621K86_20180423_DBMO.xml', 50431), ('/home/genne/Downloads/output/RTS27_7LTWFZYICNSX8D621K86_20180524_DBMO.xml', 50337), ('/home/genne/Downloads/output/RTS27_7LTWFZYICNSX8D621K86_20180514_DBMO.xml', 49937), ('/home/genne/Downloads/output/RTS27_7LTWFZYICNSX8D621K86_20180625_DBMO.xml', 48991), ('/home/genne/Downloads/output/RTS27_7LTWFZYICNSX8D621K86_20190108_DBMO.xml', 48653), ('/home/genne/Downloads/output/RTS27_7LTWFZYICNSX8D621K86_20181024_DBMO.xml', 48607), ('/home/genne/Downloads/output/RTS27_7LTWFZYICNSX8D621K86_20190404_DBMO.xml', 48017), ('/home/genne/Downloads/output/RTS27_7LTWFZYICNSX8D621K86_20181030_DBMO.xml', 47890), ('/home/genne/Downloads/output/RTS27_7LTWFZYICNSX8D621K86_20190430_DBMO.xml', 47315), ('/home/genne/Downloads/output/RTS27_7LTWFZYICNSX8D621K86_20180903_DBMO.xml', 47052), ('/home/genne/Downloads/output/RTS27_7LTWFZYICNSX8D621K86_20190328_DBMO.xml', 46933), ('/home/genne/Downloads/output/RTS27_7LTWFZYICNSX8D621K86_20190519_DBES.xml', 46764), ('/home/genne/Downloads/output/RTS27_7LTWFZYICNSX8D621K86_20181205_DBMO.xml', 46389), ('/home/genne/Downloads/output/RTS27_7LTWFZYICNSX8D621K86_20180916_DBES.xml', 45943), ('/home/genne/Downloads/output/RTS27_7LTWFZYICNSX8D621K86_20180419_DBMO.xml', 45899), ('/home/genne/Downloads/output/RTS27_7LTWFZYICNSX8D621K86_20180905_DBMO.xml', 45813), ('/home/genne/Downloads/output/RTS27_7LTWFZYICNSX8D621K86_20180516_DBMO.xml', 45038), ('/home/genne/Downloads/output/RTS27_7LTWFZYICNSX8D621K86_20181213_DBMO.xml', 44997), ('/home/genne/Downloads/output/RTS27_7LTWFZYICNSX8D621K86_20180530_DBMO.xml', 44150), ('/home/genne/Downloads/output/RTS27_7LTWFZYICNSX8D621K86_20181116_DBMO.xml', 43368), ('/home/genne/Downloads/output/RTS27_7LTWFZYICNSX8D621K86_20181129_DBMO.xml', 43192), ('/home/genne/Downloads/output/RTS27_7LTWFZYICNSX8D621K86_20180403_DBMO.xml', 43111), ('/home/genne/Downloads/output/RTS27_7LTWFZYICNSX8D621K86_20180105_DBMO.xml', 42988), ('/home/genne/Downloads/output/RTS27_7LTWFZYICNSX8D621K86_20181016_DBMO.xml', 42845), ('/home/genne/Downloads/output/RTS27_7LTWFZYICNSX8D621K86_20180215_DBMO.xml', 41304), ('/home/genne/Downloads/output/RTS27_7LTWFZYICNSX8D621K86_20180130_DBMO.xml', 41260), ('/home/genne/Downloads/output/RTS27_7LTWFZYICNSX8D621K86_20180424_DBMO.xml', 41042), ('/home/genne/Downloads/output/RTS27_7LTWFZYICNSX8D621K86_20180412_DBMO.xml', 41020), ('/home/genne/Downloads/output/RTS27_7LTWFZYICNSX8D621K86_20180627_DBMO.xml', 40681), ('/home/genne/Downloads/output/RTS27_7LTWFZYICNSX8D621K86_20180209_DBMO.xml', 40636), ('/home/genne/Downloads/output/RTS27_7LTWFZYICNSX8D621K86_20190225_DBMO.xml', 40524), ('/home/genne/Downloads/output/RTS27_7LTWFZYICNSX8D621K86_20181120_DBMO.xml', 40322), ('/home/genne/Downloads/output/RTS27_7LTWFZYICNSX8D621K86_20180418_DBMO.xml', 40200), ('/home/genne/Downloads/output/RTS27_7LTWFZYICNSX8D621K86_20180803_DBMO.xml', 39981), ('/home/genne/Downloads/output/RTS27_7LTWFZYICNSX8D621K86_20180606_DBMO.xml', 39881), ('/home/genne/Downloads/output/RTS27_7LTWFZYICNSX8D621K86_20190408_DBMO.xml', 39826), ('/home/genne/Downloads/output/RTS27_7LTWFZYICNSX8D621K86_20181115_DBMO.xml', 39634), ('/home/genne/Downloads/output/RTS27_7LTWFZYICNSX8D621K86_20180420_DBMO.xml', 39206), ('/home/genne/Downloads/output/RTS27_7LTWFZYICNSX8D621K86_20180823_DBMO.xml', 38732), ('/home/genne/Downloads/output/RTS27_7LTWFZYICNSX8D621K86_20190121_DBMO.xml', 37917), ('/home/genne/Downloads/output/RTS27_7LTWFZYICNSX8D621K86_20180612_DBMO.xml', 37888), ('/home/genne/Downloads/output/RTS27_7LTWFZYICNSX8D621K86_20180924_DBMO.xml', 37564), ('/home/genne/Downloads/output/RTS27_7LTWFZYICNSX8D621K86_20181123_DBMO.xml', 37399), ('/home/genne/Downloads/output/RTS27_7LTWFZYICNSX8D621K86_20180724_DBMO.xml', 37369), ('/home/genne/Downloads/output/RTS27_7LTWFZYICNSX8D621K86_20180607_DBMO.xml', 37348), ('/home/genne/Downloads/output/RTS27_7LTWFZYICNSX8D621K86_20181210_DBMO.xml', 37034), ('/home/genne/Downloads/output/RTS27_7LTWFZYICNSX8D621K86_20180125_DBMO.xml', 36832), ('/home/genne/Downloads/output/RTS27_7LTWFZYICNSX8D621K86_20180813_DBMO.xml', 36131), ('/home/genne/Downloads/output/RTS27_7LTWFZYICNSX8D621K86_20190211_DBMO.xml', 35766), ('/home/genne/Downloads/output/RTS27_7LTWFZYICNSX8D621K86_20190115_DBMO.xml', 35690), ('/home/genne/Downloads/output/RTS27_7LTWFZYICNSX8D621K86_20190311_DBMO.xml', 35104), ('/home/genne/Downloads/output/RTS27_7LTWFZYICNSX8D621K86_20181119_DBMO.xml', 35100), ('/home/genne/Downloads/output/RTS27_7LTWFZYICNSX8D621K86_20181206_DBMO.xml', 34604), ('/home/genne/Downloads/output/RTS27_7LTWFZYICNSX8D621K86_20190218_DBMO.xml', 34537), ('/home/genne/Downloads/output/RTS27_7LTWFZYICNSX8D621K86_20190623_DBES.xml', 34207), ('/home/genne/Downloads/output/RTS27_7LTWFZYICNSX8D621K86_20180226_DBMO.xml', 34171), ('/home/genne/Downloads/output/RTS27_7LTWFZYICNSX8D621K86_20190128_DBMO.xml', 33863), ('/home/genne/Downloads/output/RTS27_7LTWFZYICNSX8D621K86_20180206_DBMO.xml', 31933), ('/home/genne/Downloads/output/RTS27_7LTWFZYICNSX8D621K86_20180605_DBMO.xml', 30354), ('/home/genne/Downloads/output/RTS27_7LTWFZYICNSX8D621K86_20181026_DBMO.xml', 30192), ('/home/genne/Downloads/output/RTS27_7LTWFZYICNSX8D621K86_20180614_DBMO.xml', 29711), ('/home/genne/Downloads/output/RTS27_7LTWFZYICNSX8D621K86_20180309_DBMO.xml', 27946), ('/home/genne/Downloads/output/RTS27_7LTWFZYICNSX8D621K86_20180827_DBMO.xml', 27825), ('/home/genne/Downloads/output/RTS27_7LTWFZYICNSX8D621K86_20180709_DBMO.xml', 27667), ('/home/genne/Downloads/output/RTS27_7LTWFZYICNSX8D621K86_20190325_DBMO.xml', 26071), ('/home/genne/Downloads/output/RTS27_7LTWFZYICNSX8D621K86_20190104_DBMO.xml', 25800), ('/home/genne/Downloads/output/RTS27_7LTWFZYICNSX8D621K86_20180828_DBMO.xml', 22954), ('/home/genne/Downloads/output/RTS27_7LTWFZYICNSX8D621K86_20180808_DBMO.xml', 22669), ('/home/genne/Downloads/output/RTS27_7LTWFZYICNSX8D621K86_20180617_DBES.xml', 22333), ('/home/genne/Downloads/output/RTS27_7LTWFZYICNSX8D621K86_20180406_DBMO.xml', 22295), ('/home/genne/Downloads/output/RTS27_7LTWFZYICNSX8D621K86_20180801_DBMO.xml', 21571), ('/home/genne/Downloads/output/RTS27_7LTWFZYICNSX8D621K86_20180725_DBMO.xml', 20382), ('/home/genne/Downloads/output/RTS27_7LTWFZYICNSX8D621K86_20180409_DBMO.xml', 19920), ('/home/genne/Downloads/output/RTS27_7LTWFZYICNSX8D621K86_20180521_DBMO.xml', 18694), ('/home/genne/Downloads/output/RTS27_7LTWFZYICNSX8D621K86_20180704_DBMO.xml', 18043), ('/home/genne/Downloads/output/RTS27_7LTWFZYICNSX8D621K86_20191020_DBES.xml', 17389), ('/home/genne/Downloads/output/RTS27_7LTWFZYICNSX8D621K86_20190915_DBES.xml', 16995), ('/home/genne/Downloads/output/RTS27_7LTWFZYICNSX8D621K86_20180311_DBES.xml', 16853), ('/home/genne/Downloads/output/RTS27_7LTWFZYICNSX8D621K86_20191201_DBES.xml', 15568), ('/home/genne/Downloads/output/RTS27_7LTWFZYICNSX8D621K86_20191013_DBES.xml', 15417), ('/home/genne/Downloads/output/RTS27_7LTWFZYICNSX8D621K86_20190111_DBMO.xml', 14555), ('/home/genne/Downloads/output/RTS27_7LTWFZYICNSX8D621K86_20180830_DBMO.xml', 14531), ('/home/genne/Downloads/output/RTS27_7LTWFZYICNSX8D621K86_20180726_DBMO.xml', 13879), ('/home/genne/Downloads/output/RTS27_7LTWFZYICNSX8D621K86_20180208_DBMO.xml', 13614), ('/home/genne/Downloads/output/RTS27_7LTWFZYICNSX8D621K86_20190908_DBES.xml', 13004), ('/home/genne/Downloads/output/RTS27_7LTWFZYICNSX8D621K86_20180515_DBMO.xml', 12977), ('/home/genne/Downloads/output/RTS27_7LTWFZYICNSX8D621K86_20180620_DBMO.xml', 12617), ('/home/genne/Downloads/output/RTS27_7LTWFZYICNSX8D621K86_20181122_DBMO.xml', 12376), ('/home/genne/Downloads/output/RTS27_7LTWFZYICNSX8D621K86_20180711_DBMO.xml', 12060), ('/home/genne/Downloads/output/RTS27_7LTWFZYICNSX8D621K86_20180429_DBES.xml', 12037), ('/home/genne/Downloads/output/RTS27_7LTWFZYICNSX8D621K86_20180322_DBMO.xml', 12030), ('/home/genne/Downloads/output/RTS27_7LTWFZYICNSX8D621K86_20190901_DBES.xml', 11993), ('/home/genne/Downloads/output/RTS27_7LTWFZYICNSX8D621K86_20190922_DBES.xml', 11603), ('/home/genne/Downloads/output/RTS27_7LTWFZYICNSX8D621K86_20180430_DBMO.xml', 11036), ('/home/genne/Downloads/output/RTS27_7LTWFZYICNSX8D621K86_20180102_DBMO.xml', 11003), ('/home/genne/Downloads/output/RTS27_7LTWFZYICNSX8D621K86_20180115_DBMO.xml', 10853), ('/home/genne/Downloads/output/RTS27_7LTWFZYICNSX8D621K86_20180103_DBMO.xml', 10852), ('/home/genne/Downloads/output/RTS27_7LTWFZYICNSX8D621K86_20180128_DBES.xml', 10644), ('/home/genne/Downloads/output/RTS27_7LTWFZYICNSX8D621K86_20180619_DBMO.xml', 9688), ('/home/genne/Downloads/output/RTS27_7LTWFZYICNSX8D621K86_20180802_DBMO.xml', 9674), ('/home/genne/Downloads/output/RTS27_7LTWFZYICNSX8D621K86_20190825_DBES.xml', 9623), ('/home/genne/Downloads/output/RTS27_7LTWFZYICNSX8D621K86_20180508_DBMO.xml', 8795), ('/home/genne/Downloads/output/RTS27_7LTWFZYICNSX8D621K86_20180608_DBMO.xml', 8732), ('/home/genne/Downloads/output/RTS27_7LTWFZYICNSX8D621K86_20180618_DBMO.xml', 8464), ('/home/genne/Downloads/output/RTS27_7LTWFZYICNSX8D621K86_20180410_DBMO.xml', 8227), ('/home/genne/Downloads/output/RTS27_7LTWFZYICNSX8D621K86_20180220_DBMO.xml', 8080), ('/home/genne/Downloads/output/RTS27_7LTWFZYICNSX8D621K86_20191027_DBES.xml', 8074), ('/home/genne/Downloads/output/RTS27_7LTWFZYICNSX8D621K86_20180117_DBMO.xml', 8008), ('/home/genne/Downloads/output/RTS27_7LTWFZYICNSX8D621K86_20180223_DBMO.xml', 7483), ('/home/genne/Downloads/output/RTS27_7LTWFZYICNSX8D621K86_20191110_DBES.xml', 6798), ('/home/genne/Downloads/output/RTS27_7LTWFZYICNSX8D621K86_20180119_DBMO.xml', 6780), ('/home/genne/Downloads/output/RTS27_7LTWFZYICNSX8D621K86_20180108_DBMO.xml', 6727), ('/home/genne/Downloads/output/RTS27_7LTWFZYICNSX8D621K86_20190929_DBES.xml', 6533), ('/home/genne/Downloads/output/RTS27_7LTWFZYICNSX8D621K86_20191225_DBES.xml', 6391), ('/home/genne/Downloads/output/RTS27_7LTWFZYICNSX8D621K86_20180604_DBMO.xml', 6391), ('/home/genne/Downloads/output/RTS27_7LTWFZYICNSX8D621K86_20180329_DBMO.xml', 5815), ('/home/genne/Downloads/output/RTS27_7LTWFZYICNSX8D621K86_20180626_DBMO.xml', 5705), ('/home/genne/Downloads/output/RTS27_7LTWFZYICNSX8D621K86_20180219_DBMO.xml', 5666), ('/home/genne/Downloads/output/RTS27_7LTWFZYICNSX8D621K86_20191006_DBES.xml', 5588), ('/home/genne/Downloads/output/RTS27_7LTWFZYICNSX8D621K86_20180822_DBMO.xml', 5287), ('/home/genne/Downloads/output/RTS27_7LTWFZYICNSX8D621K86_20180710_DBMO.xml', 4911), ('/home/genne/Downloads/output/RTS27_7LTWFZYICNSX8D621K86_20180601_DBMO.xml', 4905), ('/home/genne/Downloads/output/RTS27_7LTWFZYICNSX8D621K86_20180417_DBMO.xml', 4730), ('/home/genne/Downloads/output/RTS27_7LTWFZYICNSX8D621K86_20191117_DBES.xml', 4551), ('/home/genne/Downloads/output/RTS27_7LTWFZYICNSX8D621K86_20191103_DBES.xml', 4467), ('/home/genne/Downloads/output/RTS27_7LTWFZYICNSX8D621K86_20180717_DBMO.xml', 4437), ('/home/genne/Downloads/output/RTS27_7LTWFZYICNSX8D621K86_20180731_DBMO.xml', 4401), ('/home/genne/Downloads/output/RTS27_7LTWFZYICNSX8D621K86_20180718_DBMO.xml', 4380), ('/home/genne/Downloads/output/RTS27_7LTWFZYICNSX8D621K86_20180307_DBMO.xml', 4314), ('/home/genne/Downloads/output/RTS27_7LTWFZYICNSX8D621K86_20180720_DBMO.xml', 4148), ('/home/genne/Downloads/output/RTS27_7LTWFZYICNSX8D621K86_20180507_DBMO.xml', 4096), ('/home/genne/Downloads/output/RTS27_7LTWFZYICNSX8D621K86_20180703_DBMO.xml', 4032), ('/home/genne/Downloads/output/RTS27_7LTWFZYICNSX8D621K86_20191124_DBES.xml', 3868), ('/home/genne/Downloads/output/RTS27_7LTWFZYICNSX8D621K86_20190811_DBES.xml', 3824), ('/home/genne/Downloads/output/RTS27_7LTWFZYICNSX8D621K86_20190721_DBES.xml', 3733), ('/home/genne/Downloads/output/RTS27_7LTWFZYICNSX8D621K86_20180404_DBMO.xml', 3718), ('/home/genne/Downloads/output/RTS27_7LTWFZYICNSX8D621K86_20180518_DBMO.xml', 3548), ('/home/genne/Downloads/output/RTS27_7LTWFZYICNSX8D621K86_20180727_DBMO.xml', 3372), ('/home/genne/Downloads/output/RTS27_7LTWFZYICNSX8D621K86_20181028_DBES.xml', 3363), ('/home/genne/Downloads/output/RTS27_7LTWFZYICNSX8D621K86_20191215_DBES.xml', 3363), ('/home/genne/Downloads/output/RTS27_7LTWFZYICNSX8D621K86_20180611_DBMO.xml', 3064), ('/home/genne/Downloads/output/RTS27_7LTWFZYICNSX8D621K86_20180719_DBMO.xml', 3022), ('/home/genne/Downloads/output/RTS27_7LTWFZYICNSX8D621K86_20180416_DBMO.xml', 2830), ('/home/genne/Downloads/output/RTS27_7LTWFZYICNSX8D621K86_20180716_DBMO.xml', 2503), ('/home/genne/Downloads/output/RTS27_7LTWFZYICNSX8D621K86_20181220_DBMO.xml', 2464), ('/home/genne/Downloads/output/RTS27_7LTWFZYICNSX8D621K86_20191229_DBES.xml', 2449), ('/home/genne/Downloads/output/RTS27_7LTWFZYICNSX8D621K86_20191208_DBES.xml', 2448), ('/home/genne/Downloads/output/RTS27_7LTWFZYICNSX8D621K86_20181231_DBMO.xml', 2448), ('/home/genne/Downloads/output/RTS27_7LTWFZYICNSX8D621K86_20181014_DBES.xml', 2236), ('/home/genne/Downloads/output/RTS27_7LTWFZYICNSX8D621K86_20190506_DBMO.xml', 1975), ('/home/genne/Downloads/output/RTS27_7LTWFZYICNSX8D621K86_20180817_DBMO.xml', 1951), ('/home/genne/Downloads/output/RTS27_7LTWFZYICNSX8D621K86_20180116_DBMO.xml', 1766), ('/home/genne/Downloads/output/RTS27_7LTWFZYICNSX8D621K86_20180628_DBMO.xml', 1662), ('/home/genne/Downloads/output/RTS27_7LTWFZYICNSX8D621K86_20190527_DBMO.xml', 1580), ('/home/genne/Downloads/output/RTS27_7LTWFZYICNSX8D621K86_20180815_DBMO.xml', 1567), ('/home/genne/Downloads/output/RTS27_7LTWFZYICNSX8D621K86_20181227_DBMO.xml', 1556), ('/home/genne/Downloads/output/RTS27_7LTWFZYICNSX8D621K86_20191214_DBES.xml', 1473), ('/home/genne/Downloads/output/RTS27_7LTWFZYICNSX8D621K86_20191130_DBES.xml', 1473), ('/home/genne/Downloads/output/RTS27_7LTWFZYICNSX8D621K86_20180820_DBMO.xml', 1353), ('/home/genne/Downloads/output/RTS27_7LTWFZYICNSX8D621K86_20180528_DBMO.xml', 1287), ('/home/genne/Downloads/output/RTS27_7LTWFZYICNSX8D621K86_20191005_DBES.xml', 1096), ('/home/genne/Downloads/output/RTS27_7LTWFZYICNSX8D621K86_20191026_DBES.xml', 1096), ('/home/genne/Downloads/output/RTS27_7LTWFZYICNSX8D621K86_20191019_DBES.xml', 1096), ('/home/genne/Downloads/output/RTS27_7LTWFZYICNSX8D621K86_20191116_DBES.xml', 1096), ('/home/genne/Downloads/output/RTS27_7LTWFZYICNSX8D621K86_20191207_DBES.xml', 1080), ('/home/genne/Downloads/output/RTS27_7LTWFZYICNSX8D621K86_20191224_DBMO.xml', 1051), ('/home/genne/Downloads/output/RTS27_7LTWFZYICNSX8D621K86_20191101_DBMO.xml', 1040)]\n"
     ]
    }
   ],
   "source": [
    "import os, operator\n",
    "from os.path import getsize\n",
    "files_list = []\n",
    "for path, dirs, files in os.walk(PATH):\n",
    "    files_list.extend([(os.path.join(path, file),\n",
    "                        getsize(os.path.join(path, file))) for file in files])\n",
    "files_list = sorted(files_list, key=operator.itemgetter(1), reverse=True)\n",
    "print(files_list)"
   ],
   "metadata": {
    "collapsed": false,
    "pycharm": {
     "name": "#%%\n"
    }
   }
  },
  {
   "cell_type": "code",
   "execution_count": 40,
   "outputs": [
    {
     "name": "stderr",
     "output_type": "stream",
     "text": [
      "<ipython-input-40-58f2c6218b0d>:6: TqdmDeprecationWarning: This function will be removed in tqdm==5.0.0\n",
      "Please use `tqdm.notebook.tqdm` instead of `tqdm.tqdm_notebook`\n",
      "  for fname, fsize in tqdm_notebook(files_list):\n"
     ]
    },
    {
     "data": {
      "text/plain": "  0%|          | 0/1023 [00:00<?, ?it/s]",
      "application/vnd.jupyter.widget-view+json": {
       "version_major": 2,
       "version_minor": 0,
       "model_id": "a32a9062d2724e3c8dd93c3c0cb2e359"
      }
     },
     "metadata": {},
     "output_type": "display_data"
    }
   ],
   "source": [
    "SAVE_PATH = \"/home/genne/Downloads/transactions_new\"\n",
    "save_name = make_new(0)\n",
    "idx = 0\n",
    "notebook_idx = 1\n",
    "fsize_sum = 0\n",
    "for fname, fsize in tqdm_notebook(files_list):\n",
    "    if fsize_sum > 50000000:\n",
    "        save_name = make_new(notebook_idx) #file's too big -> rows overflow after 1000000\n",
    "        notebook_idx += 1\n",
    "        fsize_sum = 0\n",
    "    fsize_sum += fsize\n",
    "    all_data = get_data(fname)\n",
    "    write_data(SAVE_PATH, save_name, all_data)\n",
    "    idx += 1"
   ],
   "metadata": {
    "collapsed": false,
    "pycharm": {
     "name": "#%%\n"
    }
   }
  },
  {
   "cell_type": "code",
   "execution_count": 17,
   "outputs": [
    {
     "name": "stdout",
     "output_type": "stream",
     "text": [
      "['bond_transactions_0.csv', 'bond_transactions_7.csv', 'bond_transactions_6.csv', 'bond_transactions_2.csv', 'bond_transactions_4.csv', 'bond_transactions_5.csv', 'bond_transactions_9.csv', 'bond_transactions_1.csv', 'bond_transactions_10.csv', 'bond_transactions_8.csv', 'bond_transactions_3.csv']\n"
     ]
    },
    {
     "name": "stderr",
     "output_type": "stream",
     "text": [
      "<ipython-input-17-69fe4a723b28>:4: TqdmDeprecationWarning: This function will be removed in tqdm==5.0.0\n",
      "Please use `tqdm.notebook.tqdm` instead of `tqdm.tqdm_notebook`\n",
      "  for fname in tqdm_notebook(filenames):\n"
     ]
    },
    {
     "data": {
      "text/plain": "  0%|          | 0/11 [00:00<?, ?it/s]",
      "application/vnd.jupyter.widget-view+json": {
       "version_major": 2,
       "version_minor": 0,
       "model_id": "1ad11a71900a4072a8ef9ace2cd9d65c"
      }
     },
     "metadata": {},
     "output_type": "display_data"
    }
   ],
   "source": [
    "SAVE_TWO = \"/home/genne/Downloads/excel\"\n",
    "dirpath, dirnames, filenames = next(walk(SAVE_PATH))\n",
    "print(filenames)\n",
    "for fname in tqdm_notebook(filenames):\n",
    "    full_path = join(dirpath, fname)\n",
    "    csv_data = pd.read_csv(full_path)\n",
    "    excel_path = join(SAVE_TWO, fname.split(\".\")[0]+\".xlsx\")\n",
    "    with pd.ExcelWriter(excel_path, mode='w') as writer:\n",
    "        csv_data.to_excel(writer, index=False)"
   ],
   "metadata": {
    "collapsed": false,
    "pycharm": {
     "name": "#%%\n"
    }
   }
  },
  {
   "cell_type": "code",
   "execution_count": 23,
   "outputs": [
    {
     "name": "stdout",
     "output_type": "stream",
     "text": [
      "[('/home/genne/Downloads/transactions_new/bond_transactions_100.csv', 41213214), ('/home/genne/Downloads/transactions_new/bond_transactions_103.csv', 33419857)]\n"
     ]
    }
   ],
   "source": [
    "import os, operator\n",
    "from os.path import getsize\n",
    "from tqdm.notebook import tqdm as tn\n",
    "\n",
    "TOTAL_PATH = \"/home/genne/Downloads\"\n",
    "save_name = \"bond_transactions.csv\"\n",
    "CSV_PATH = \"/home/genne/Downloads/transactions_new\"\n",
    "\n",
    "files_list = []\n",
    "for path, dirs, files in os.walk(CSV_PATH):\n",
    "    files_list.extend([(os.path.join(path, file),\n",
    "                        getsize(os.path.join(path, file))) for file in files\n",
    "                       if file.endswith(\".csv\")])\n",
    "files_list = sorted(files_list, key=operator.itemgetter(1), reverse=True)\n",
    "print(files_list[:2])"
   ],
   "metadata": {
    "collapsed": false,
    "pycharm": {
     "name": "#%%\n"
    }
   }
  },
  {
   "cell_type": "code",
   "execution_count": 24,
   "outputs": [
    {
     "data": {
      "text/plain": "  0%|          | 0/102 [00:00<?, ?it/s]",
      "application/vnd.jupyter.widget-view+json": {
       "version_major": 2,
       "version_minor": 0,
       "model_id": "c0db700de6fe4f3793b725edc4ab42aa"
      }
     },
     "metadata": {},
     "output_type": "display_data"
    },
    {
     "name": "stdout",
     "output_type": "stream",
     "text": [
      "/home/genne/Downloads/transactions_new/bond_transactions_100.csv\n"
     ]
    },
    {
     "ename": "ParserError",
     "evalue": "Error tokenizing data. C error: Expected 36 fields in line 2, saw 40\n",
     "output_type": "error",
     "traceback": [
      "\u001B[0;31m---------------------------------------------------------------------------\u001B[0m",
      "\u001B[0;31mParserError\u001B[0m                               Traceback (most recent call last)",
      "\u001B[0;32m<ipython-input-24-2a06dfcbf760>\u001B[0m in \u001B[0;36m<module>\u001B[0;34m\u001B[0m\n\u001B[1;32m      1\u001B[0m \u001B[0;32mfor\u001B[0m \u001B[0mcsv_file\u001B[0m\u001B[0;34m,\u001B[0m \u001B[0mfilesize\u001B[0m \u001B[0;32min\u001B[0m \u001B[0mtn\u001B[0m\u001B[0;34m(\u001B[0m\u001B[0mfiles_list\u001B[0m\u001B[0;34m)\u001B[0m\u001B[0;34m:\u001B[0m\u001B[0;34m\u001B[0m\u001B[0;34m\u001B[0m\u001B[0m\n\u001B[1;32m      2\u001B[0m     \u001B[0mprint\u001B[0m\u001B[0;34m(\u001B[0m\u001B[0mcsv_file\u001B[0m\u001B[0;34m)\u001B[0m\u001B[0;34m\u001B[0m\u001B[0;34m\u001B[0m\u001B[0m\n\u001B[0;32m----> 3\u001B[0;31m     \u001B[0mcsv_data\u001B[0m \u001B[0;34m=\u001B[0m \u001B[0mpd\u001B[0m\u001B[0;34m.\u001B[0m\u001B[0mread_csv\u001B[0m\u001B[0;34m(\u001B[0m\u001B[0mcsv_file\u001B[0m\u001B[0;34m,\u001B[0m \u001B[0mheader\u001B[0m\u001B[0;34m=\u001B[0m\u001B[0;32mNone\u001B[0m\u001B[0;34m)\u001B[0m\u001B[0;34m\u001B[0m\u001B[0;34m\u001B[0m\u001B[0m\n\u001B[0m\u001B[1;32m      4\u001B[0m     \u001B[0mprint\u001B[0m\u001B[0;34m(\u001B[0m\u001B[0mcsv_data\u001B[0m\u001B[0;34m)\u001B[0m\u001B[0;34m\u001B[0m\u001B[0;34m\u001B[0m\u001B[0m\n\u001B[1;32m      5\u001B[0m     \u001B[0mcolumns\u001B[0m \u001B[0;34m=\u001B[0m \u001B[0;34m\"VnNm VnCd CtryCompAuth MktSgmt MktSgmtNm DtTrdDay \"\u001B[0m\u001B[0;31m \u001B[0m\u001B[0;31m\\\u001B[0m\u001B[0;34m\u001B[0m\u001B[0;34m\u001B[0m\u001B[0m\n",
      "\u001B[0;32m~/anaconda3/envs/parser/lib/python3.8/site-packages/pandas/io/parsers.py\u001B[0m in \u001B[0;36mread_csv\u001B[0;34m(filepath_or_buffer, sep, delimiter, header, names, index_col, usecols, squeeze, prefix, mangle_dupe_cols, dtype, engine, converters, true_values, false_values, skipinitialspace, skiprows, skipfooter, nrows, na_values, keep_default_na, na_filter, verbose, skip_blank_lines, parse_dates, infer_datetime_format, keep_date_col, date_parser, dayfirst, cache_dates, iterator, chunksize, compression, thousands, decimal, lineterminator, quotechar, quoting, doublequote, escapechar, comment, encoding, dialect, error_bad_lines, warn_bad_lines, delim_whitespace, low_memory, memory_map, float_precision, storage_options)\u001B[0m\n\u001B[1;32m    603\u001B[0m     \u001B[0mkwds\u001B[0m\u001B[0;34m.\u001B[0m\u001B[0mupdate\u001B[0m\u001B[0;34m(\u001B[0m\u001B[0mkwds_defaults\u001B[0m\u001B[0;34m)\u001B[0m\u001B[0;34m\u001B[0m\u001B[0;34m\u001B[0m\u001B[0m\n\u001B[1;32m    604\u001B[0m \u001B[0;34m\u001B[0m\u001B[0m\n\u001B[0;32m--> 605\u001B[0;31m     \u001B[0;32mreturn\u001B[0m \u001B[0m_read\u001B[0m\u001B[0;34m(\u001B[0m\u001B[0mfilepath_or_buffer\u001B[0m\u001B[0;34m,\u001B[0m \u001B[0mkwds\u001B[0m\u001B[0;34m)\u001B[0m\u001B[0;34m\u001B[0m\u001B[0;34m\u001B[0m\u001B[0m\n\u001B[0m\u001B[1;32m    606\u001B[0m \u001B[0;34m\u001B[0m\u001B[0m\n\u001B[1;32m    607\u001B[0m \u001B[0;34m\u001B[0m\u001B[0m\n",
      "\u001B[0;32m~/anaconda3/envs/parser/lib/python3.8/site-packages/pandas/io/parsers.py\u001B[0m in \u001B[0;36m_read\u001B[0;34m(filepath_or_buffer, kwds)\u001B[0m\n\u001B[1;32m    461\u001B[0m \u001B[0;34m\u001B[0m\u001B[0m\n\u001B[1;32m    462\u001B[0m     \u001B[0;32mwith\u001B[0m \u001B[0mparser\u001B[0m\u001B[0;34m:\u001B[0m\u001B[0;34m\u001B[0m\u001B[0;34m\u001B[0m\u001B[0m\n\u001B[0;32m--> 463\u001B[0;31m         \u001B[0;32mreturn\u001B[0m \u001B[0mparser\u001B[0m\u001B[0;34m.\u001B[0m\u001B[0mread\u001B[0m\u001B[0;34m(\u001B[0m\u001B[0mnrows\u001B[0m\u001B[0;34m)\u001B[0m\u001B[0;34m\u001B[0m\u001B[0;34m\u001B[0m\u001B[0m\n\u001B[0m\u001B[1;32m    464\u001B[0m \u001B[0;34m\u001B[0m\u001B[0m\n\u001B[1;32m    465\u001B[0m \u001B[0;34m\u001B[0m\u001B[0m\n",
      "\u001B[0;32m~/anaconda3/envs/parser/lib/python3.8/site-packages/pandas/io/parsers.py\u001B[0m in \u001B[0;36mread\u001B[0;34m(self, nrows)\u001B[0m\n\u001B[1;32m   1050\u001B[0m     \u001B[0;32mdef\u001B[0m \u001B[0mread\u001B[0m\u001B[0;34m(\u001B[0m\u001B[0mself\u001B[0m\u001B[0;34m,\u001B[0m \u001B[0mnrows\u001B[0m\u001B[0;34m=\u001B[0m\u001B[0;32mNone\u001B[0m\u001B[0;34m)\u001B[0m\u001B[0;34m:\u001B[0m\u001B[0;34m\u001B[0m\u001B[0;34m\u001B[0m\u001B[0m\n\u001B[1;32m   1051\u001B[0m         \u001B[0mnrows\u001B[0m \u001B[0;34m=\u001B[0m \u001B[0mvalidate_integer\u001B[0m\u001B[0;34m(\u001B[0m\u001B[0;34m\"nrows\"\u001B[0m\u001B[0;34m,\u001B[0m \u001B[0mnrows\u001B[0m\u001B[0;34m)\u001B[0m\u001B[0;34m\u001B[0m\u001B[0;34m\u001B[0m\u001B[0m\n\u001B[0;32m-> 1052\u001B[0;31m         \u001B[0mindex\u001B[0m\u001B[0;34m,\u001B[0m \u001B[0mcolumns\u001B[0m\u001B[0;34m,\u001B[0m \u001B[0mcol_dict\u001B[0m \u001B[0;34m=\u001B[0m \u001B[0mself\u001B[0m\u001B[0;34m.\u001B[0m\u001B[0m_engine\u001B[0m\u001B[0;34m.\u001B[0m\u001B[0mread\u001B[0m\u001B[0;34m(\u001B[0m\u001B[0mnrows\u001B[0m\u001B[0;34m)\u001B[0m\u001B[0;34m\u001B[0m\u001B[0;34m\u001B[0m\u001B[0m\n\u001B[0m\u001B[1;32m   1053\u001B[0m \u001B[0;34m\u001B[0m\u001B[0m\n\u001B[1;32m   1054\u001B[0m         \u001B[0;32mif\u001B[0m \u001B[0mindex\u001B[0m \u001B[0;32mis\u001B[0m \u001B[0;32mNone\u001B[0m\u001B[0;34m:\u001B[0m\u001B[0;34m\u001B[0m\u001B[0;34m\u001B[0m\u001B[0m\n",
      "\u001B[0;32m~/anaconda3/envs/parser/lib/python3.8/site-packages/pandas/io/parsers.py\u001B[0m in \u001B[0;36mread\u001B[0;34m(self, nrows)\u001B[0m\n\u001B[1;32m   2054\u001B[0m     \u001B[0;32mdef\u001B[0m \u001B[0mread\u001B[0m\u001B[0;34m(\u001B[0m\u001B[0mself\u001B[0m\u001B[0;34m,\u001B[0m \u001B[0mnrows\u001B[0m\u001B[0;34m=\u001B[0m\u001B[0;32mNone\u001B[0m\u001B[0;34m)\u001B[0m\u001B[0;34m:\u001B[0m\u001B[0;34m\u001B[0m\u001B[0;34m\u001B[0m\u001B[0m\n\u001B[1;32m   2055\u001B[0m         \u001B[0;32mtry\u001B[0m\u001B[0;34m:\u001B[0m\u001B[0;34m\u001B[0m\u001B[0;34m\u001B[0m\u001B[0m\n\u001B[0;32m-> 2056\u001B[0;31m             \u001B[0mdata\u001B[0m \u001B[0;34m=\u001B[0m \u001B[0mself\u001B[0m\u001B[0;34m.\u001B[0m\u001B[0m_reader\u001B[0m\u001B[0;34m.\u001B[0m\u001B[0mread\u001B[0m\u001B[0;34m(\u001B[0m\u001B[0mnrows\u001B[0m\u001B[0;34m)\u001B[0m\u001B[0;34m\u001B[0m\u001B[0;34m\u001B[0m\u001B[0m\n\u001B[0m\u001B[1;32m   2057\u001B[0m         \u001B[0;32mexcept\u001B[0m \u001B[0mStopIteration\u001B[0m\u001B[0;34m:\u001B[0m\u001B[0;34m\u001B[0m\u001B[0;34m\u001B[0m\u001B[0m\n\u001B[1;32m   2058\u001B[0m             \u001B[0;32mif\u001B[0m \u001B[0mself\u001B[0m\u001B[0;34m.\u001B[0m\u001B[0m_first_chunk\u001B[0m\u001B[0;34m:\u001B[0m\u001B[0;34m\u001B[0m\u001B[0;34m\u001B[0m\u001B[0m\n",
      "\u001B[0;32mpandas/_libs/parsers.pyx\u001B[0m in \u001B[0;36mpandas._libs.parsers.TextReader.read\u001B[0;34m()\u001B[0m\n",
      "\u001B[0;32mpandas/_libs/parsers.pyx\u001B[0m in \u001B[0;36mpandas._libs.parsers.TextReader._read_low_memory\u001B[0;34m()\u001B[0m\n",
      "\u001B[0;32mpandas/_libs/parsers.pyx\u001B[0m in \u001B[0;36mpandas._libs.parsers.TextReader._read_rows\u001B[0;34m()\u001B[0m\n",
      "\u001B[0;32mpandas/_libs/parsers.pyx\u001B[0m in \u001B[0;36mpandas._libs.parsers.TextReader._tokenize_rows\u001B[0;34m()\u001B[0m\n",
      "\u001B[0;32mpandas/_libs/parsers.pyx\u001B[0m in \u001B[0;36mpandas._libs.parsers.raise_parser_error\u001B[0;34m()\u001B[0m\n",
      "\u001B[0;31mParserError\u001B[0m: Error tokenizing data. C error: Expected 36 fields in line 2, saw 40\n"
     ]
    }
   ],
   "source": [
    "for csv_file, filesize in tn(files_list):\n",
    "    csv_data = pd.read_csv(csv_file)\n",
    "    columns = \"VnNm VnCd CtryCompAuth MktSgmt MktSgmtNm DtTrdDay \" \\\n",
    "          \"FinInstr FinInstrNm CFICd Ccy \" \\\n",
    "          \"Data SzRn Pric ExecTime TxSize TrdSystm TrdMode TrdPlt \" \\\n",
    "          \"SmplAvgExecPric TtlValExec \" \\\n",
    "          \"SmplAvgTxPric VolWghTxPric HgstTxPric LwstTxPric \" \\\n",
    "          \"NumRcvdOrQt NumExecTx TtlValExecTx NmOfCxlQrQt \" \\\n",
    "          \"NmOfAmndQrQt MdnTxSize MdnOrQtSize \" \\\n",
    "          \"Data2 BstBdPric BstOfrPric BbSz OfrSz\".split(\" \")\n",
    "    csv_data = csv_data[2:]\n",
    "    csv_data.columns = columns\n",
    "    csv_data.to_csv(\n",
    "        join(TOTAL_PATH, save_name),\n",
    "        index=False,\n",
    "        sep=\",\",\n",
    "        mode='a',\n",
    "        header=\"False\"\n",
    "    )"
   ],
   "metadata": {
    "collapsed": false,
    "pycharm": {
     "name": "#%%\n"
    }
   }
  },
  {
   "cell_type": "code",
   "execution_count": 18,
   "outputs": [
    {
     "name": "stdout",
     "output_type": "stream",
     "text": [
      "('/home/genne/Downloads/transactions_new/bond_transactions_93.csv', 6085082)\n",
      "                                                                                                            VnNm  \\\n",
      "DEUTSCHE BANK AKTIENGESELLSCHAFT 7LTWFZYICNSX8D621K86 DE DBES  DEUTSCHE BANK AG OPERATING MARKET CODE FOR EU ...   \n",
      "                                                         DBES  DEUTSCHE BANK AG OPERATING MARKET CODE FOR EU ...   \n",
      "                                                         DBES  DEUTSCHE BANK AG OPERATING MARKET CODE FOR EU ...   \n",
      "                                                         DBES  DEUTSCHE BANK AG OPERATING MARKET CODE FOR EU ...   \n",
      "\n",
      "                                                                     VnCd  \\\n",
      "DEUTSCHE BANK AKTIENGESELLSCHAFT 7LTWFZYICNSX8D621K86 DE DBES  2019-08-21   \n",
      "                                                         DBES  2019-08-21   \n",
      "                                                         DBES  2019-08-21   \n",
      "                                                         DBES  2019-08-21   \n",
      "\n",
      "                                                               CtryCompAuth  \\\n",
      "DEUTSCHE BANK AKTIENGESELLSCHAFT 7LTWFZYICNSX8D621K86 DE DBES  EZ4JR01J1130   \n",
      "                                                         DBES  EZ4JR01J1130   \n",
      "                                                         DBES  DE000DC3KLN5   \n",
      "                                                         DBES  DE000DC162W6   \n",
      "\n",
      "                                                                                                 MktSgmt  \\\n",
      "DEUTSCHE BANK AKTIENGESELLSCHAFT 7LTWFZYICNSX8D621K86 DE DBES  Foreign_Exchange Forward NZD USD 20190822   \n",
      "                                                         DBES  Foreign_Exchange Forward NZD USD 20190822   \n",
      "                                                         DBES  Deutsche Bank AG WaveC 30.09.19 DAX 11260   \n",
      "                                                         DBES        Deutsche Bank AG WUnlC O.End ESTX50   \n",
      "\n",
      "                                                              MktSgmtNm  \\\n",
      "DEUTSCHE BANK AKTIENGESELLSCHAFT 7LTWFZYICNSX8D621K86 DE DBES    JFTXFP   \n",
      "                                                         DBES    JFTXFP   \n",
      "                                                         DBES    RWINCE   \n",
      "                                                         DBES    RFITCB   \n",
      "\n",
      "                                                              DtTrdDay  \\\n",
      "DEUTSCHE BANK AKTIENGESELLSCHAFT 7LTWFZYICNSX8D621K86 DE DBES      NZD   \n",
      "                                                         DBES      NZD   \n",
      "                                                         DBES      EUR   \n",
      "                                                         DBES      EUR   \n",
      "\n",
      "                                                               FinInstr  \\\n",
      "DEUTSCHE BANK AKTIENGESELLSCHAFT 7LTWFZYICNSX8D621K86 DE DBES  15.30.00   \n",
      "                                                         DBES  09.30.00   \n",
      "                                                         DBES  09.30.00   \n",
      "                                                         DBES  15.30.00   \n",
      "\n",
      "                                                              FinInstrNm  \\\n",
      "DEUTSCHE BANK AKTIENGESELLSCHAFT 7LTWFZYICNSX8D621K86 DE DBES          1   \n",
      "                                                         DBES          1   \n",
      "                                                         DBES          1   \n",
      "                                                         DBES          1   \n",
      "\n",
      "                                                                         CFICd  \\\n",
      "DEUTSCHE BANK AKTIENGESELLSCHAFT 7LTWFZYICNSX8D621K86 DE DBES        0.6409658   \n",
      "                                                         DBES  0.9552229679254   \n",
      "                                                         DBES             5.54   \n",
      "                                                         DBES             2.28   \n",
      "\n",
      "                                                                     Ccy  ...  \\\n",
      "DEUTSCHE BANK AKTIENGESELLSCHAFT 7LTWFZYICNSX8D621K86 DE DBES  15:32:52Z  ...   \n",
      "                                                         DBES  09:36:47Z  ...   \n",
      "                                                         DBES  10:38:25Z  ...   \n",
      "                                                         DBES  16:39:22Z  ...   \n",
      "\n",
      "                                                              TtlValExecTx  \\\n",
      "DEUTSCHE BANK AKTIENGESELLSCHAFT 7LTWFZYICNSX8D621K86 DE DBES      8000000   \n",
      "                                                         DBES      8000000   \n",
      "                                                         DBES         3381   \n",
      "                                                         DBES          684   \n",
      "\n",
      "                                                              NmOfCxlQrQt  \\\n",
      "DEUTSCHE BANK AKTIENGESELLSCHAFT 7LTWFZYICNSX8D621K86 DE DBES         NaN   \n",
      "                                                         DBES         NaN   \n",
      "                                                         DBES         NaN   \n",
      "                                                         DBES         NaN   \n",
      "\n",
      "                                                              NmOfAmndQrQt  \\\n",
      "DEUTSCHE BANK AKTIENGESELLSCHAFT 7LTWFZYICNSX8D621K86 DE DBES          NaN   \n",
      "                                                         DBES          NaN   \n",
      "                                                         DBES          NaN   \n",
      "                                                         DBES          NaN   \n",
      "\n",
      "                                                              MdnTxSize  \\\n",
      "DEUTSCHE BANK AKTIENGESELLSCHAFT 7LTWFZYICNSX8D621K86 DE DBES       NaN   \n",
      "                                                         DBES       NaN   \n",
      "                                                         DBES       NaN   \n",
      "                                                         DBES       NaN   \n",
      "\n",
      "                                                              MdnOrQtSize  \\\n",
      "DEUTSCHE BANK AKTIENGESELLSCHAFT 7LTWFZYICNSX8D621K86 DE DBES         NaN   \n",
      "                                                         DBES         NaN   \n",
      "                                                         DBES         NaN   \n",
      "                                                         DBES         NaN   \n",
      "\n",
      "                                                              Data2 BstBdPric  \\\n",
      "DEUTSCHE BANK AKTIENGESELLSCHAFT 7LTWFZYICNSX8D621K86 DE DBES   NaN       NaN   \n",
      "                                                         DBES   NaN       NaN   \n",
      "                                                         DBES   NaN       NaN   \n",
      "                                                         DBES   NaN       NaN   \n",
      "\n",
      "                                                              BstOfrPric BbSz  \\\n",
      "DEUTSCHE BANK AKTIENGESELLSCHAFT 7LTWFZYICNSX8D621K86 DE DBES        NaN  NaN   \n",
      "                                                         DBES        NaN  NaN   \n",
      "                                                         DBES        NaN  NaN   \n",
      "                                                         DBES        NaN  NaN   \n",
      "\n",
      "                                                              OfrSz  \n",
      "DEUTSCHE BANK AKTIENGESELLSCHAFT 7LTWFZYICNSX8D621K86 DE DBES   NaN  \n",
      "                                                         DBES   NaN  \n",
      "                                                         DBES   NaN  \n",
      "                                                         DBES   NaN  \n",
      "\n",
      "[4 rows x 36 columns]\n"
     ]
    }
   ],
   "source": [
    "print(files_list[-1])\n",
    "csv_data = pd.read_csv(files_list[-1][0])\n",
    "columns = \"VnNm VnCd CtryCompAuth MktSgmt MktSgmtNm DtTrdDay \" \\\n",
    "      \"FinInstr FinInstrNm CFICd Ccy \" \\\n",
    "      \"Data SzRn Pric ExecTime TxSize TrdSystm TrdMode TrdPlt \" \\\n",
    "      \"SmplAvgExecPric TtlValExec \" \\\n",
    "      \"SmplAvgTxPric VolWghTxPric HgstTxPric LwstTxPric \" \\\n",
    "      \"NumRcvdOrQt NumExecTx TtlValExecTx NmOfCxlQrQt \" \\\n",
    "      \"NmOfAmndQrQt MdnTxSize MdnOrQtSize \" \\\n",
    "      \"Data2 BstBdPric BstOfrPric BbSz OfrSz\".split(\" \")\n",
    "csv_data = csv_data[1:5]\n",
    "csv_data.columns = columns\n",
    "print(csv_data)"
   ],
   "metadata": {
    "collapsed": false,
    "pycharm": {
     "name": "#%%\n"
    }
   }
  },
  {
   "cell_type": "code",
   "execution_count": 30,
   "outputs": [],
   "source": [
    "csv_data = get_data(\"/home/genne/Downloads/sample.xml\")\n",
    "csv_data.to_csv(\n",
    "    \"/home/genne/Downloads/test2.csv\",\n",
    "    index=False,\n",
    "    sep=\",\"\n",
    ")"
   ],
   "metadata": {
    "collapsed": false,
    "pycharm": {
     "name": "#%%\n"
    }
   }
  }
 ],
 "metadata": {
  "kernelspec": {
   "display_name": "Python 3",
   "language": "python",
   "name": "python3"
  },
  "language_info": {
   "codemirror_mode": {
    "name": "ipython",
    "version": 2
   },
   "file_extension": ".py",
   "mimetype": "text/x-python",
   "name": "python",
   "nbconvert_exporter": "python",
   "pygments_lexer": "ipython2",
   "version": "2.7.6"
  }
 },
 "nbformat": 4,
 "nbformat_minor": 0
}