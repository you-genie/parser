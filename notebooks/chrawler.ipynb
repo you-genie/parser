{
 "cells": [
  {
   "cell_type": "code",
   "execution_count": 16,
   "metadata": {
    "collapsed": true
   },
   "outputs": [],
   "source": [
    "import requests\n",
    "import pandas as pd\n",
    "from contextlib import contextmanager\n",
    "import json"
   ]
  },
  {
   "cell_type": "code",
   "execution_count": 20,
   "outputs": [
    {
     "name": "stdout",
     "output_type": "stream",
     "text": [
      "{'id': 10500595, 'type': 'Report32', 'reportDate': '2018-12-04', 'venueName': 'DZ BANK AG Deutsche Zentral-Genossenschaftsbank', 'ctryNca': 'DE', 'micCd': 'DZBK', 'micNm': 'DZ Bank - Systematic Internaliser', 'failedTrx': 4, 'failedTrxVal': 2.5216960359, 'outages': []}\n",
      "Empty DataFrame\n",
      "Columns: [id, type, reportDate, venueName, ctryNca, micCd, micNm, failedTrx, failedTrxVal, outages]\n",
      "Index: []\n"
     ]
    }
   ],
   "source": [
    "URL = \"https://aqbservice.dzbank.de/api/v1/reports?\"\n",
    "\n",
    "request_data = {\n",
    "    \"reportDateFrom\": \"2018-10-01\",\n",
    "    \"reportDateTo\": \"2018-12-31\",\n",
    "    \"reportType\": [\"Report32\", \"Report33\", \"Report34\",\n",
    "                   \"Report35\", \"Report36\", \"Report37\",\n",
    "                   \"Report40\"],\n",
    "    \"isin\": \"AMAMRBB26ER2\"\n",
    "}\n",
    "\n",
    "time_range = [\n",
    "    (\"2018-10-01\", \"2018-12-31\"),\n",
    "    (\"2019-01-01\", \"2019-03-31\"),\n",
    "    (\"2019-04-01\", \"2019-06-30\"),\n",
    "    (\"2019-07-01\", \"2019-09-30\"),\n",
    "    (\"2019-10-01\", \"2019-12-31\"),\n",
    "    (\"2020-01-01\", \"2020-03-31\"),\n",
    "    (\"2020-04-01\", \"2020-06-30\"),\n",
    "    (\"20120-07-01\", \"2020-09-30\"),\n",
    "]\n",
    "\n",
    "columns = [\n",
    "    \"Venue Name\", \"Venue ID\", \"Market Segment\", \"Market Segment ID\",\n",
    "    \"Trading Day\", \"ISIN\", \"Trade volume\", \"Currency\",\n",
    "    \"Fails transaction percentage\"\n",
    "]\n",
    "\n",
    "@contextmanager\n",
    "def get_request(url, param_data):\n",
    "    request = requests.get(url, params=param_data)\n",
    "    data_list = json.loads(request.content.decode())\n",
    "    yield data_list\n",
    "    del request, data_list\n",
    "\n",
    "\n",
    "def parse_data(data):\n",
    "    if data['type'] == 'Report33':\n",
    "        return (33, {\n",
    "            'Currency': [data['crcy']]\n",
    "        })\n",
    "    elif data['type'] == 'Report37':\n",
    "        return (37, {\n",
    "            'Trading Day': [data['reportDate']],\n",
    "            'Trade volume': [data['totalValueTrxs']]\n",
    "        })\n",
    "    else:\n",
    "        return (32, {\n",
    "\n",
    "        })\n",
    "\n",
    "\n",
    "with get_request(URL, request_data) as data_list:\n",
    "    for data in data_list:\n",
    "        del data['reportInfoRunDate']\n",
    "        print(data)\n",
    "        data_pd = pd.DataFrame.from_dict(data)\n",
    "        print(data_pd)\n",
    "        break"
   ],
   "metadata": {
    "collapsed": false,
    "pycharm": {
     "name": "#%%\n"
    }
   }
  }
 ],
 "metadata": {
  "kernelspec": {
   "display_name": "Python 3",
   "language": "python",
   "name": "python3"
  },
  "language_info": {
   "codemirror_mode": {
    "name": "ipython",
    "version": 2
   },
   "file_extension": ".py",
   "mimetype": "text/x-python",
   "name": "python",
   "nbconvert_exporter": "python",
   "pygments_lexer": "ipython2",
   "version": "2.7.6"
  }
 },
 "nbformat": 4,
 "nbformat_minor": 0
}